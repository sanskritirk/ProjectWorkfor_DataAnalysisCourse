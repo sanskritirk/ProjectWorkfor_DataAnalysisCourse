{
  "nbformat": 4,
  "nbformat_minor": 0,
  "metadata": {
    "colab": {
      "name": "2020-04-16_SanskritiKanagala_Project4",
      "provenance": [],
      "collapsed_sections": [],
      "include_colab_link": true
    },
    "kernelspec": {
      "name": "python3",
      "display_name": "Python 3"
    }
  },
  "cells": [
    {
      "cell_type": "markdown",
      "metadata": {
        "id": "view-in-github",
        "colab_type": "text"
      },
      "source": [
        "<a href=\"https://colab.research.google.com/github/sanskritirk/ProjectWorkfor_DataAnalysisCourse/blob/master/Project4_DataVisualistaion.ipynb\" target=\"_parent\"><img src=\"https://colab.research.google.com/assets/colab-badge.svg\" alt=\"Open In Colab\"/></a>"
      ]
    },
    {
      "cell_type": "markdown",
      "metadata": {
        "id": "zVCE_Pjc2nFj",
        "colab_type": "text"
      },
      "source": [
        "# Project 4: Data Visualisation"
      ]
    },
    {
      "cell_type": "markdown",
      "metadata": {
        "id": "57AkT4b-2qsQ",
        "colab_type": "text"
      },
      "source": [
        "### Overview\n",
        "\n",
        "In this project, you have to create a DataFrame for a synthesized dataset and perform some basic mathematical operations before on the dataset provided to you before you get your hands dirty on a real-life dataset in the subsequent classes.\n"
      ]
    },
    {
      "cell_type": "markdown",
      "metadata": {
        "id": "OYcXE-FyCBVu",
        "colab_type": "text"
      },
      "source": [
        "---"
      ]
    },
    {
      "cell_type": "markdown",
      "metadata": {
        "id": "O1Md2QaOm5mD",
        "colab_type": "text"
      },
      "source": [
        "### Project Requirements\n",
        "\n",
        "For this project, you have to do the following tasks:\n",
        "\n",
        "1. Create a DataFrame for a `csv` file which is available at the link: \n",
        "\n",
        "  https://student-datasets-bucket.s3.ap-south-1.amazonaws.com/whitehat-ds-datasets/project-3/sample_csv_file.csv\n",
        "\n",
        "2. Display the first 5 rows of the DataFrame.\n",
        "\n",
        "3. Display the last 5 rows of the DataFrame. \n",
        "\n",
        "4. Find the number of rows and columns.\n",
        "\n",
        "5. Check for the missing values in the DataFrame.\n",
        "\n",
        "6. Create a pandas series called `cum_freq_x1` which contains the cumulative frequency of the `x1` values and print the first 10 values of the series. Also, verify whether it is a pandas series.\n",
        "\n",
        "7. Print the minimum, maximum, mean, median and mode values for the `cum_freq_x1` Pandas series.\n",
        "\n",
        "8. Create a scatter plot and a line plot between:\n",
        "  \n",
        "  - `y` and `x1`\n",
        "  \n",
        "  - `y` and `x2`\n",
        "  \n",
        "  - `y` and `x3`\n",
        "  \n",
        "  - `y` and `x4`\n",
        "  \n",
        "  - `y` and `2 * x1 + 3 * x2 + 4 * x3 + 5 * x4`\n",
        "  \n",
        "  such that the `y` values are plotted on the horizontal axis and `x1, x2, x3, 4` values are plotted on the vertical axis."
      ]
    },
    {
      "cell_type": "markdown",
      "metadata": {
        "id": "4JHqbf0Jsqnu",
        "colab_type": "text"
      },
      "source": [
        "---"
      ]
    },
    {
      "cell_type": "markdown",
      "metadata": {
        "id": "a0APEzMjsr59",
        "colab_type": "text"
      },
      "source": [
        "#### 1. Create a DataFrame\n",
        "\n",
        "Import the required modules. Create a DataFrame for the dataset for this project and store it in the `df` variable. Here's the link to the dataset:\n",
        "\n",
        "https://student-datasets-bucket.s3.ap-south-1.amazonaws.com/whitehat-ds-datasets/project-3/sample_csv_file.csv"
      ]
    },
    {
      "cell_type": "code",
      "metadata": {
        "id": "7ELK9uLOKgUF",
        "colab_type": "code",
        "colab": {}
      },
      "source": [
        "# Write your code here.\n",
        "import pandas as pd\n",
        "df=pd.read_csv('https://student-datasets-bucket.s3.ap-south-1.amazonaws.com/whitehat-ds-datasets/project-3/sample_csv_file.csv')\n"
      ],
      "execution_count": null,
      "outputs": []
    },
    {
      "cell_type": "markdown",
      "metadata": {
        "id": "9TcWLR-EtAL5",
        "colab_type": "text"
      },
      "source": [
        "---"
      ]
    },
    {
      "cell_type": "markdown",
      "metadata": {
        "id": "YknhZf9ktBLZ",
        "colab_type": "text"
      },
      "source": [
        "#### 2. Display The First 5 Rows\n",
        "\n",
        "Here you have to display the first five rows of the `df` DataFrame."
      ]
    },
    {
      "cell_type": "code",
      "metadata": {
        "id": "lLJ6ItnzRJgS",
        "colab_type": "code",
        "colab": {
          "base_uri": "https://localhost:8080/",
          "height": 203
        },
        "outputId": "20d79b1b-89c7-4b9a-d3e4-59de99caddaa"
      },
      "source": [
        "# Write your code here.\n",
        "df.head()"
      ],
      "execution_count": null,
      "outputs": [
        {
          "output_type": "execute_result",
          "data": {
            "text/html": [
              "<div>\n",
              "<style scoped>\n",
              "    .dataframe tbody tr th:only-of-type {\n",
              "        vertical-align: middle;\n",
              "    }\n",
              "\n",
              "    .dataframe tbody tr th {\n",
              "        vertical-align: top;\n",
              "    }\n",
              "\n",
              "    .dataframe thead th {\n",
              "        text-align: right;\n",
              "    }\n",
              "</style>\n",
              "<table border=\"1\" class=\"dataframe\">\n",
              "  <thead>\n",
              "    <tr style=\"text-align: right;\">\n",
              "      <th></th>\n",
              "      <th>y</th>\n",
              "      <th>x1</th>\n",
              "      <th>x2</th>\n",
              "      <th>x3</th>\n",
              "      <th>x4</th>\n",
              "    </tr>\n",
              "  </thead>\n",
              "  <tbody>\n",
              "    <tr>\n",
              "      <th>0</th>\n",
              "      <td>1</td>\n",
              "      <td>1</td>\n",
              "      <td>1</td>\n",
              "      <td>0.000000</td>\n",
              "      <td>0.841471</td>\n",
              "    </tr>\n",
              "    <tr>\n",
              "      <th>1</th>\n",
              "      <td>2</td>\n",
              "      <td>2</td>\n",
              "      <td>4</td>\n",
              "      <td>0.693147</td>\n",
              "      <td>0.909297</td>\n",
              "    </tr>\n",
              "    <tr>\n",
              "      <th>2</th>\n",
              "      <td>3</td>\n",
              "      <td>3</td>\n",
              "      <td>9</td>\n",
              "      <td>1.098612</td>\n",
              "      <td>0.141120</td>\n",
              "    </tr>\n",
              "    <tr>\n",
              "      <th>3</th>\n",
              "      <td>4</td>\n",
              "      <td>4</td>\n",
              "      <td>16</td>\n",
              "      <td>1.386294</td>\n",
              "      <td>-0.756802</td>\n",
              "    </tr>\n",
              "    <tr>\n",
              "      <th>4</th>\n",
              "      <td>5</td>\n",
              "      <td>5</td>\n",
              "      <td>25</td>\n",
              "      <td>1.609438</td>\n",
              "      <td>-0.958924</td>\n",
              "    </tr>\n",
              "  </tbody>\n",
              "</table>\n",
              "</div>"
            ],
            "text/plain": [
              "   y  x1  x2        x3        x4\n",
              "0  1   1   1  0.000000  0.841471\n",
              "1  2   2   4  0.693147  0.909297\n",
              "2  3   3   9  1.098612  0.141120\n",
              "3  4   4  16  1.386294 -0.756802\n",
              "4  5   5  25  1.609438 -0.958924"
            ]
          },
          "metadata": {
            "tags": []
          },
          "execution_count": 4
        }
      ]
    },
    {
      "cell_type": "markdown",
      "metadata": {
        "id": "77w83-ortGY8",
        "colab_type": "text"
      },
      "source": [
        "---"
      ]
    },
    {
      "cell_type": "markdown",
      "metadata": {
        "id": "836Zdss_tOPi",
        "colab_type": "text"
      },
      "source": [
        "#### 3. Display The Last 5 Rows\n",
        "\n",
        "Here you have to display the last five rows of the `df` DataFrame."
      ]
    },
    {
      "cell_type": "code",
      "metadata": {
        "id": "__DRgc_pPJau",
        "colab_type": "code",
        "colab": {
          "base_uri": "https://localhost:8080/",
          "height": 203
        },
        "outputId": "dce84fef-e127-42a2-fe51-1b8e28677495"
      },
      "source": [
        "# Write your code here.\n",
        "df.tail()"
      ],
      "execution_count": null,
      "outputs": [
        {
          "output_type": "execute_result",
          "data": {
            "text/html": [
              "<div>\n",
              "<style scoped>\n",
              "    .dataframe tbody tr th:only-of-type {\n",
              "        vertical-align: middle;\n",
              "    }\n",
              "\n",
              "    .dataframe tbody tr th {\n",
              "        vertical-align: top;\n",
              "    }\n",
              "\n",
              "    .dataframe thead th {\n",
              "        text-align: right;\n",
              "    }\n",
              "</style>\n",
              "<table border=\"1\" class=\"dataframe\">\n",
              "  <thead>\n",
              "    <tr style=\"text-align: right;\">\n",
              "      <th></th>\n",
              "      <th>y</th>\n",
              "      <th>x1</th>\n",
              "      <th>x2</th>\n",
              "      <th>x3</th>\n",
              "      <th>x4</th>\n",
              "    </tr>\n",
              "  </thead>\n",
              "  <tbody>\n",
              "    <tr>\n",
              "      <th>494</th>\n",
              "      <td>495</td>\n",
              "      <td>495</td>\n",
              "      <td>245025</td>\n",
              "      <td>6.204558</td>\n",
              "      <td>-0.980234</td>\n",
              "    </tr>\n",
              "    <tr>\n",
              "      <th>495</th>\n",
              "      <td>496</td>\n",
              "      <td>496</td>\n",
              "      <td>246016</td>\n",
              "      <td>6.206576</td>\n",
              "      <td>-0.363143</td>\n",
              "    </tr>\n",
              "    <tr>\n",
              "      <th>496</th>\n",
              "      <td>497</td>\n",
              "      <td>497</td>\n",
              "      <td>247009</td>\n",
              "      <td>6.208590</td>\n",
              "      <td>0.587819</td>\n",
              "    </tr>\n",
              "    <tr>\n",
              "      <th>497</th>\n",
              "      <td>498</td>\n",
              "      <td>498</td>\n",
              "      <td>248004</td>\n",
              "      <td>6.210600</td>\n",
              "      <td>0.998344</td>\n",
              "    </tr>\n",
              "    <tr>\n",
              "      <th>498</th>\n",
              "      <td>499</td>\n",
              "      <td>499</td>\n",
              "      <td>249001</td>\n",
              "      <td>6.212606</td>\n",
              "      <td>0.490995</td>\n",
              "    </tr>\n",
              "  </tbody>\n",
              "</table>\n",
              "</div>"
            ],
            "text/plain": [
              "       y   x1      x2        x3        x4\n",
              "494  495  495  245025  6.204558 -0.980234\n",
              "495  496  496  246016  6.206576 -0.363143\n",
              "496  497  497  247009  6.208590  0.587819\n",
              "497  498  498  248004  6.210600  0.998344\n",
              "498  499  499  249001  6.212606  0.490995"
            ]
          },
          "metadata": {
            "tags": []
          },
          "execution_count": 5
        }
      ]
    },
    {
      "cell_type": "markdown",
      "metadata": {
        "id": "hbrf-qnYtXHL",
        "colab_type": "text"
      },
      "source": [
        "---"
      ]
    },
    {
      "cell_type": "markdown",
      "metadata": {
        "id": "5Vc16dIwtYEC",
        "colab_type": "text"
      },
      "source": [
        "#### 4. Display Number Of Rows & Columns\n",
        "\n",
        "Now, display the number of rows and columns that are present in the `df` DataFrame."
      ]
    },
    {
      "cell_type": "code",
      "metadata": {
        "id": "BchpHm6DQ22n",
        "colab_type": "code",
        "colab": {
          "base_uri": "https://localhost:8080/",
          "height": 35
        },
        "outputId": "979536ce-5e0b-43d6-b842-9321d5bde703"
      },
      "source": [
        "# Write your code here.\n",
        "df.shape"
      ],
      "execution_count": null,
      "outputs": [
        {
          "output_type": "execute_result",
          "data": {
            "text/plain": [
              "(499, 5)"
            ]
          },
          "metadata": {
            "tags": []
          },
          "execution_count": 6
        }
      ]
    },
    {
      "cell_type": "markdown",
      "metadata": {
        "id": "t6l5BJ0otgRO",
        "colab_type": "text"
      },
      "source": [
        "---"
      ]
    },
    {
      "cell_type": "markdown",
      "metadata": {
        "id": "noovqesBthVM",
        "colab_type": "text"
      },
      "source": [
        "#### 5. Check For The Missing Values\n",
        "\n",
        "Check whether the `df` DataFrame contains the missing values."
      ]
    },
    {
      "cell_type": "code",
      "metadata": {
        "id": "fcCJ0AzhQ4T0",
        "colab_type": "code",
        "colab": {
          "base_uri": "https://localhost:8080/",
          "height": 35
        },
        "outputId": "85340f69-375e-4d0c-a66a-d68a7058356a"
      },
      "source": [
        "# Write your code here.\n",
        "num_missing_value=0\n",
        "for column in df.columns:\n",
        "  for item in df[column].isnull():\n",
        "    if item==True:\n",
        "      num_missing_value+=1\n",
        "    \n",
        "print(\"Number of missing values:\",num_missing_value)"
      ],
      "execution_count": null,
      "outputs": [
        {
          "output_type": "stream",
          "text": [
            "Number of missing values: 0\n"
          ],
          "name": "stdout"
        }
      ]
    },
    {
      "cell_type": "markdown",
      "metadata": {
        "id": "cpABJSlnttuX",
        "colab_type": "text"
      },
      "source": [
        "---"
      ]
    },
    {
      "cell_type": "markdown",
      "metadata": {
        "id": "YjFYaSi4turb",
        "colab_type": "text"
      },
      "source": [
        "#### 6. Cumulative Frequency\n",
        "\n",
        "The cumulative frequency is the sum of the current and the previous frequencies. \n",
        "\n",
        "Suppose there are 50 students in your class. The table below shows the distribution of the number of students secured marks out of 100 in a Math test in a particular range.\n",
        "\n",
        "|Interval|Frequency|\n",
        "|-|-|\n",
        "|40-50|5|\n",
        "|50-60|11|\n",
        "|60-70|13|\n",
        "|70-80|11|\n",
        "|80-90|8|\n",
        "|90-100|2|\n",
        "\n",
        "So, there are\n",
        "\n",
        "- 5 students who have secured marks between 40 and 50 (excluding 50)\n",
        "\n",
        "- 11 students who have secured marks between 50 and 60 (excluding 60)\n",
        "\n",
        "- 13 students who have secured marks between 60 and 70 (excluding 70)\n",
        "\n",
        "- 11 students who have secured marks between 70 and 80 (excluding 80)\n",
        "\n",
        "- 8 students who have secured marks between 80 and 90 (excluding 90)\n",
        "\n",
        "- 2 students who have secured marks between 90 and 100 (**including** 100)\n",
        "\n",
        "The cumulative frequency table for the above table is:\n",
        "\n",
        "|Interval|Frequency|Cumulative Frequency|\n",
        "|-|-|-|\n",
        "|40-50|5|5|\n",
        "|50-60|11|5 + 11 = 16|\n",
        "|60-70|13|16 + 13 = 29|\n",
        "|70-80|11|29 + 11 = 40|\n",
        "|80-90|8|40 + 8 = 48|\n",
        "|90-100|2|48 + 2 = 50|\n",
        "\n",
        "So, the cumulative frequency table tells us that there are\n",
        "\n",
        "- 5 students who have secured marks between 40 and 50 (excluding 50)\n",
        "\n",
        "- 16 students who have secured marks between 40 and 60 (excluding 60)\n",
        "\n",
        "- 29 students who have secured marks between 40 and 70 (excluding 70)\n",
        "\n",
        "- 40 students who have secured marks between 40 and 80 (excluding 80)\n",
        "\n",
        "- 48 students who have secured marks between 40 and 90 (excluding 90)\n",
        "\n",
        "- 50 students who have secured marks between 40 and 100 (**including** 100)"
      ]
    },
    {
      "cell_type": "code",
      "metadata": {
        "id": "WrC4fyRUW4vA",
        "colab_type": "code",
        "colab": {
          "base_uri": "https://localhost:8080/",
          "height": 228
        },
        "outputId": "e74230f4-9d82-4a48-b887-09a79a2f447a"
      },
      "source": [
        "# Write your code here.\n",
        "cum_freq_x1=pd.Series(df['x1'].cumsum())\n",
        "print(cum_freq_x1.head(10))\n",
        "print(type(cum_freq_x1))"
      ],
      "execution_count": null,
      "outputs": [
        {
          "output_type": "stream",
          "text": [
            "0     1\n",
            "1     3\n",
            "2     6\n",
            "3    10\n",
            "4    15\n",
            "5    21\n",
            "6    28\n",
            "7    36\n",
            "8    45\n",
            "9    55\n",
            "Name: x1, dtype: int64\n",
            "<class 'pandas.core.series.Series'>\n"
          ],
          "name": "stdout"
        }
      ]
    },
    {
      "cell_type": "markdown",
      "metadata": {
        "id": "u8Wq5e6PypWJ",
        "colab_type": "text"
      },
      "source": [
        ""
      ]
    },
    {
      "cell_type": "markdown",
      "metadata": {
        "id": "6qa0CN4dysEr",
        "colab_type": "text"
      },
      "source": [
        "#### 7. Minimum, Maximum, Mean And Median Values\n",
        "\n",
        "Now, print the minumum, maximum, mean and median values in the `x1` column in the `df` DataFrame."
      ]
    },
    {
      "cell_type": "code",
      "metadata": {
        "id": "hlVuv70Nbupg",
        "colab_type": "code",
        "colab": {
          "base_uri": "https://localhost:8080/",
          "height": 87
        },
        "outputId": "06e34442-8de2-4467-9b65-54aabc93e84c"
      },
      "source": [
        "# Write your code here.\n",
        "print(\"Minimum value:\",df['x1'].min())\n",
        "print(\"Maximum value:\",df['x1'].max())\n",
        "print(\"Mean value:\",df['x1'].mean())\n",
        "print(\"Median value:\",df['x1'].median())"
      ],
      "execution_count": null,
      "outputs": [
        {
          "output_type": "stream",
          "text": [
            "Minimum value: 1\n",
            "Maximum value: 499\n",
            "Mean value: 250.0\n",
            "Median value: 250.0\n"
          ],
          "name": "stdout"
        }
      ]
    },
    {
      "cell_type": "markdown",
      "metadata": {
        "id": "3RiKE8vUz9IX",
        "colab_type": "text"
      },
      "source": [
        "---"
      ]
    },
    {
      "cell_type": "markdown",
      "metadata": {
        "id": "5fKVN1TYz92o",
        "colab_type": "text"
      },
      "source": [
        "#### 8. Scatter & Line Plots\n",
        "\n",
        "Now you have to create the scatter plots and line plots between the following columns:\n",
        "\n",
        "1. `y` and `x1`\n",
        "\n",
        "2. `y` and `x2`\n",
        "\n",
        "3. `y` and `x3`\n",
        "\n",
        "4. `y` and `x4`\n",
        "\n",
        "5. `y1` and `2 * x1 + 3 * x2 + 4 * x3 + 5 * x4`\n"
      ]
    },
    {
      "cell_type": "code",
      "metadata": {
        "id": "INB2sNXkb7zA",
        "colab_type": "code",
        "colab": {
          "base_uri": "https://localhost:8080/",
          "height": 265
        },
        "outputId": "b03f393d-08aa-4e9f-d789-2e745980b0ea"
      },
      "source": [
        "# Scatter plot between y and x1.\n",
        "# Write your code here.\n",
        "import matplotlib.pyplot as plt\n",
        "import numpy as np\n",
        "plt.figure(figsize=(16,4))\n",
        "y_values=df['y']\n",
        "x1_values=df['x1']\n",
        "plt.scatter(y_values,x1_values)\n",
        "plt.show()"
      ],
      "execution_count": null,
      "outputs": [
        {
          "output_type": "display_data",
          "data": {
            "image/png": "[encoded data removed]",
            "text/plain": [
              "<Figure size 1152x288 with 1 Axes>"
            ]
          },
          "metadata": {
            "tags": [],
            "needs_background": "light"
          }
        }
      ]
    },
    {
      "cell_type": "code",
      "metadata": {
        "id": "0-f6QGyQcCqp",
        "colab_type": "code",
        "colab": {
          "base_uri": "https://localhost:8080/",
          "height": 265
        },
        "outputId": "65d0ab7d-9ab0-4225-e604-c51347477930"
      },
      "source": [
        "# Line plot between y and x1.\n",
        "# Write your code here.\n",
        "plt.plot(y_values,x1_values)\n",
        "plt.show()"
      ],
      "execution_count": null,
      "outputs": [
        {
          "output_type": "display_data",
          "data": {
            "image/png": "[encoded data removed]",
            "text/plain": [
              "<Figure size 432x288 with 1 Axes>"
            ]
          },
          "metadata": {
            "tags": [],
            "needs_background": "light"
          }
        }
      ]
    },
    {
      "cell_type": "code",
      "metadata": {
        "id": "8QbZWktDcFxc",
        "colab_type": "code",
        "colab": {
          "base_uri": "https://localhost:8080/",
          "height": 265
        },
        "outputId": "16b9dd51-7aa6-4ab0-9e7e-e3dbf4fa0344"
      },
      "source": [
        "# Scatter plot between y and x2.\n",
        "# Write your code here.\n",
        "plt.figure(figsize=(16,4))\n",
        "y_values=df['y']\n",
        "x2_values=df['x2']\n",
        "plt.scatter(y_values,x2_values)\n",
        "plt.show()"
      ],
      "execution_count": null,
      "outputs": [
        {
          "output_type": "display_data",
          "data": {
            "image/png": "[encoded data removed]",
            "text/plain": [
              "<Figure size 1152x288 with 1 Axes>"
            ]
          },
          "metadata": {
            "tags": [],
            "needs_background": "light"
          }
        }
      ]
    },
    {
      "cell_type": "code",
      "metadata": {
        "id": "K0Z7s3nycIU2",
        "colab_type": "code",
        "colab": {
          "base_uri": "https://localhost:8080/",
          "height": 265
        },
        "outputId": "6235e48c-b738-4b9c-dd10-d135831a0f9e"
      },
      "source": [
        "# Line plot between y and x2.\n",
        "# Write your code here.\n",
        "plt.plot(y_values,x2_values)\n",
        "plt.show()"
      ],
      "execution_count": null,
      "outputs": [
        {
          "output_type": "display_data",
          "data": {
            "image/png": "[encoded data removed]",
            "text/plain": [
              "<Figure size 432x288 with 1 Axes>"
            ]
          },
          "metadata": {
            "tags": [],
            "needs_background": "light"
          }
        }
      ]
    },
    {
      "cell_type": "code",
      "metadata": {
        "id": "djwL88fNjNBQ",
        "colab_type": "code",
        "colab": {
          "base_uri": "https://localhost:8080/",
          "height": 265
        },
        "outputId": "57be2ae1-d230-45b7-991b-80e0fceca1b5"
      },
      "source": [
        "# Scatter plot between y and x3.\n",
        "# Write your code here.\n",
        "plt.figure(figsize=(16,4))\n",
        "y_values=df['y']\n",
        "x3_values=df['x3']\n",
        "plt.scatter(y_values,x3_values)\n",
        "plt.show()"
      ],
      "execution_count": null,
      "outputs": [
        {
          "output_type": "display_data",
          "data": {
            "image/png": "[encoded data removed]",
            "text/plain": [
              "<Figure size 1152x288 with 1 Axes>"
            ]
          },
          "metadata": {
            "tags": [],
            "needs_background": "light"
          }
        }
      ]
    },
    {
      "cell_type": "code",
      "metadata": {
        "id": "rQ_Kcw7ikwpt",
        "colab_type": "code",
        "colab": {
          "base_uri": "https://localhost:8080/",
          "height": 265
        },
        "outputId": "5d04a9ab-2bde-4563-842a-7f7db03338c0"
      },
      "source": [
        "# Line plot between y and x3.\n",
        "# Write your code here.\n",
        "plt.plot(y_values,x3_values)\n",
        "plt.show()"
      ],
      "execution_count": null,
      "outputs": [
        {
          "output_type": "display_data",
          "data": {
            "image/png": "[encoded data removed]",
            "text/plain": [
              "<Figure size 432x288 with 1 Axes>"
            ]
          },
          "metadata": {
            "tags": [],
            "needs_background": "light"
          }
        }
      ]
    },
    {
      "cell_type": "code",
      "metadata": {
        "id": "oFY-C9pG1ofU",
        "colab_type": "code",
        "colab": {
          "base_uri": "https://localhost:8080/",
          "height": 265
        },
        "outputId": "206ec837-f6ff-469a-d19b-55eca8e47594"
      },
      "source": [
        "# Scatter plot between y and x4.\n",
        "# Write your code here.\n",
        "plt.figure(figsize=(16,4))\n",
        "y_values=df['y']\n",
        "x4_values=df['x4']\n",
        "plt.scatter(y_values,x4_values)\n",
        "plt.show()"
      ],
      "execution_count": null,
      "outputs": [
        {
          "output_type": "display_data",
          "data": {
            "image/png": "[encoded data removed]",
            "text/plain": [
              "<Figure size 1152x288 with 1 Axes>"
            ]
          },
          "metadata": {
            "tags": [],
            "needs_background": "light"
          }
        }
      ]
    },
    {
      "cell_type": "code",
      "metadata": {
        "id": "V7OJ1Cam1sMS",
        "colab_type": "code",
        "colab": {
          "base_uri": "https://localhost:8080/",
          "height": 265
        },
        "outputId": "e510d4de-f38c-40cc-c220-fb8370dea434"
      },
      "source": [
        "# Line plot between y and x2.\n",
        "# Write your code here.\n",
        "plt.plot(y_values,x4_values)\n",
        "plt.show()"
      ],
      "execution_count": null,
      "outputs": [
        {
          "output_type": "display_data",
          "data": {
            "image/png": "[encoded data removed]",
            "text/plain": [
              "<Figure size 432x288 with 1 Axes>"
            ]
          },
          "metadata": {
            "tags": [],
            "needs_background": "light"
          }
        }
      ]
    },
    {
      "cell_type": "code",
      "metadata": {
        "id": "NF6HV0ij1yPT",
        "colab_type": "code",
        "colab": {
          "base_uri": "https://localhost:8080/",
          "height": 265
        },
        "outputId": "0d223d38-5dee-4534-9f0c-bda1e8256e09"
      },
      "source": [
        "# Scatter plot between y and 2 * x1 + 3 * x2 + 4 * x3 + 5 * x4.\n",
        "# Write your code here.\n",
        "df_values=(2*df['x1'])+(3*df['x2'])+(4*df['x3'])+(5*df['x4'])\n",
        "x_values=df_values\n",
        "plt.scatter(y_values,x_values)\n",
        "plt.show()"
      ],
      "execution_count": null,
      "outputs": [
        {
          "output_type": "display_data",
          "data": {
            "image/png": "[encoded data removed]",
            "text/plain": [
              "<Figure size 432x288 with 1 Axes>"
            ]
          },
          "metadata": {
            "tags": [],
            "needs_background": "light"
          }
        }
      ]
    },
    {
      "cell_type": "code",
      "metadata": {
        "id": "qcezxtHf2Qe3",
        "colab_type": "code",
        "colab": {
          "base_uri": "https://localhost:8080/",
          "height": 265
        },
        "outputId": "926659b3-711b-4011-b366-e0447b7978b5"
      },
      "source": [
        "# Line plot between y and 2 * x1 + 3 * x2 + 4 * x3 + 5 * x4.\n",
        "# Write your code here.\n",
        "plt.plot(y_values,x_values)\n",
        "plt.show()"
      ],
      "execution_count": null,
      "outputs": [
        {
          "output_type": "display_data",
          "data": {
            "image/png": "[encoded data removed]",
            "text/plain": [
              "<Figure size 432x288 with 1 Axes>"
            ]
          },
          "metadata": {
            "tags": [],
            "needs_background": "light"
          }
        }
      ]
    },
    {
      "cell_type": "markdown",
      "metadata": {
        "id": "PzQcuhZ0B_MJ",
        "colab_type": "text"
      },
      "source": [
        "---"
      ]
    },
    {
      "cell_type": "markdown",
      "metadata": {
        "id": "IUi6Wny6Fr9j",
        "colab_type": "text"
      },
      "source": [
        "### How To Solve & Submit The Project\n",
        "\n",
        "Follow the steps described below to solve the project and then submit it.\n",
        "\n",
        "1. Click on the link provided below to open the Colab file for this project.\n",
        "   \n",
        "   https://colab.research.google.com/drive/1gE5l5T9guWFfL0Ox3yLinkTbUa-DOz4G\n",
        "\n",
        "2. Create the duplicate copy of the Colab file. Here are the steps to create the duplicate copy:\n",
        "\n",
        "    - Click on the **File** menu. A new drop-down list will appear.\n",
        "\n",
        "      <img src='https://student-datasets-bucket.s3.ap-south-1.amazonaws.com/images/lesson-0/0_file_menu.png' width=500>\n",
        "\n",
        "    - Click on the **Save a copy in Drive** option. A duplicate copy will get created. It will open up in the new tab on your web browser.\n",
        "\n",
        "      <img src='https://student-datasets-bucket.s3.ap-south-1.amazonaws.com/images/lesson-0/1_create_colab_duplicate_copy.png' width=500>\n",
        "\n",
        "     - After creating the duplicate copy of the notebook, please rename it in the **YYYY-MM-DD_StudentName_Project4** format. \n",
        "\n",
        "3. Now, write your code in the prescribed code cells.\n",
        "\n",
        "4. After finishing the project, click on the **Share** button on the top right corner of the notebook. A new dialog box will appear.\n",
        "\n",
        "  <img src='https://student-datasets-bucket.s3.ap-south-1.amazonaws.com/images/lesson-0/2_share_button.png' width=500>\n",
        "\n",
        "5. In the dialog box, click on the **Copy link** button.\n",
        "\n",
        "   <img src='https://student-datasets-bucket.s3.ap-south-1.amazonaws.com/images/project-1/1_copy_link.png' width=500>\n",
        "\n",
        "6. The link of the duplicate copy (named as **YYYY-MM-DD_StudentName_Project4**) of the notebook will get copied which you can paste in the submission box on the WhiteHat Jr project submission interface.\n",
        "\n",
        "   <img src='https://student-datasets-bucket.s3.ap-south-1.amazonaws.com/images/project-1/2_copy_link_confirmation.png' width=500>"
      ]
    },
    {
      "cell_type": "markdown",
      "metadata": {
        "id": "XvfZWGQUF96l",
        "colab_type": "text"
      },
      "source": [
        "---"
      ]
    }
  ]
}