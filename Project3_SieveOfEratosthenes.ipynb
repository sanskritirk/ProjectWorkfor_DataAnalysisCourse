{
  "nbformat": 4,
  "nbformat_minor": 0,
  "metadata": {
    "colab": {
      "name": "2020-04-02_SanskritiKanagala_Project3",
      "provenance": [],
      "collapsed_sections": [],
      "include_colab_link": true
    },
    "kernelspec": {
      "name": "python3",
      "display_name": "Python 3"
    }
  },
  "cells": [
    {
      "cell_type": "markdown",
      "metadata": {
        "id": "view-in-github",
        "colab_type": "text"
      },
      "source": [
        "<a href=\"https://colab.research.google.com/github/sanskritirk/ProjectWorkfor_DataAnalysisCourse/blob/master/Project3_SieveOfEratosthenes.ipynb\" target=\"_parent\"><img src=\"https://colab.research.google.com/assets/colab-badge.svg\" alt=\"Open In Colab\"/></a>"
      ]
    },
    {
      "cell_type": "markdown",
      "metadata": {
        "id": "YFHBYanhv5gD",
        "colab_type": "text"
      },
      "source": [
        "# Project 3: Sieve Of Eratosthenes"
      ]
    },
    {
      "cell_type": "markdown",
      "metadata": {
        "id": "9bN7RwLrzCI1",
        "colab_type": "text"
      },
      "source": [
        "### Overview\n",
        "\n",
        "In this project, you need to implement the Sieve of Eratosthenes algorithm in Python. This algorithm extracts only the prime numbers from a list of given natural numbers. \n",
        "\n",
        "A prime number is a number which is divisible either by itself or by 1.\n",
        "\n",
        "\n",
        "\n",
        "\n",
        "\n",
        "\n"
      ]
    },
    {
      "cell_type": "markdown",
      "metadata": {
        "id": "v1H7kw_lmlfM",
        "colab_type": "text"
      },
      "source": [
        "---"
      ]
    },
    {
      "cell_type": "markdown",
      "metadata": {
        "id": "7sllyTOummRd",
        "colab_type": "text"
      },
      "source": [
        "### The Real-World Significance Of Prime Numbers\n",
        "\n",
        "Searching for prime numbers is an essential task for computers, because the availability of larger and larger primes makes worldwide software systems secure. The prime numbers are used in cryptography which allows two individuals or two computers to exchange information without worrying about someone eavesdropping.\n",
        "\n",
        "Searching for primes in record time is also a benchmark for computers, which allows us to rank computers in terms of performance (although there are much better tests to evaluate the performance of a computer). The quicker a computer finds a prime number, the better is its performance.\n",
        "\n",
        "You can read about how the prime numbers are used to encrypt a digital message by clicking on the link provided below.\n",
        "\n",
        "[Prime numbers keep your encrypted messages safe — here's how](https://www.abc.net.au/news/science/2018-01-20/how-prime-numbers-rsa-encryption-works/9338876\n",
        ")"
      ]
    },
    {
      "cell_type": "markdown",
      "metadata": {
        "id": "kUjp5R-ZENQd",
        "colab_type": "text"
      },
      "source": [
        "---"
      ]
    },
    {
      "cell_type": "markdown",
      "metadata": {
        "id": "ntPNnyq6EMJk",
        "colab_type": "text"
      },
      "source": [
        "### The **Sieve of Eratosthenes** Algorithm\n",
        "\n",
        "The Sieve of Eratosthenes is an algorithm which allows us to extract prime numbers (or primes) from a given list of natural numbers. \n",
        "\n",
        "*An algorithm is a well-defined and well-structured set of instructions to perform a specific task*.\n",
        "\n",
        "The Sieve of Eratosthenes algorithm finds primes up to a number, say 50, by eliminating every multiple of a prime number (starting from 2). \n",
        "\n",
        "<img src='https://drive.google.com/uc?id=1EGqif9JT_4JExYaLUUTQA1QLZ6UpREUy' width=300>\n",
        "\n",
        "It also assumes that every number between 2 and 50 is a prime number (even though they are actually not prime). Hence, all the multiples of a number (except the number itself) must be discarded from the list.\n",
        "\n",
        "For e.g., in a list containing the natural numbers between 2 and 50, assume that\n",
        "\n",
        "- 2 is a prime number so all of its multiples (except 2), i.e., 4, 6, 8... must be discarded\n",
        "\n",
        "  <img src='https://drive.google.com/uc?id=1ZvPfhK0AhdFK6zF_frQ-YYsRfb_-doRe' width=300>\n",
        "\n",
        "- 3 is a prime number so all of its multiples (except 3), i.e., 3, 6, 9... must be discarded\n",
        "\n",
        "  <img src='https://drive.google.com/uc?id=1POSGQ8kf145SoGcAHqwcGFhscuzcOl1J' width=300>\n",
        "\n",
        "\n",
        "- 4 is a prime number so all of its multiples (except 4), i.e., 8, 12, 16... must be discarded. Since every multiple of 4 is also a multiple of 2 so, they already got discarded in the first step.\n",
        "\n",
        "  <img src='https://drive.google.com/uc?id=1POSGQ8kf145SoGcAHqwcGFhscuzcOl1J' width=300>\n",
        "\n",
        "- 5 is a prime number so all of its multiples (except 5), i.e., 5, 10, 15... must be discarded. \n",
        "\n",
        "  <img src='https://drive.google.com/uc?id=1GC9gaFj32sC-xAw1wKiFb7qWJ6er35xS' width=300>\n",
        "\n",
        "This process is continued until all the **actual non-prime numbers** are discarded from the list.\n",
        "\n",
        "You can read more about this algorithm by clicking on the link provided below.\n",
        "\n",
        "[Sieve of Eratosthenes](https://en.wikipedia.org/wiki/Sieve_of_Eratosthenes)\n",
        "\n",
        "As a part of this project, you need to implement the Sieve of Eratosthenes algorithm in Python. But before that, let's quickly revisit the `range()` function because it will be very useful to you in implementing this algorithm in Python."
      ]
    },
    {
      "cell_type": "markdown",
      "metadata": {
        "id": "bbapytDvEJT7",
        "colab_type": "text"
      },
      "source": [
        "---"
      ]
    },
    {
      "cell_type": "markdown",
      "metadata": {
        "id": "ei_T5ij-4g4M",
        "colab_type": "text"
      },
      "source": [
        "### The `range()` Function Revisited\n",
        "\n",
        "The syntax for the `range()` function is `range(start, stop, step)`\n",
        "\n",
        "where \n",
        "\n",
        "- The `start` parameter generates the first number. If the `start` value is not specified, then the `range()` function assumes that the first number to be generated is `0`.\n",
        "\n",
        "- The `stop` parameter generates the last number but its value is one less than the `stop` value. For example: If the `stop` value is `10`, then the `range()` function generates `9` as the last number.\n",
        "\n",
        "- The `step` parameter defines the difference between two consecutive numbers taken from the numbers generated between the `start` and `stop` values.\n",
        "\n",
        "Look at the three examples shown below to understand the behaviour of the `range()` function in three different cases.\n",
        "\n",
        "**Case 1: Only the `stop` parameter is defined.**\n",
        "\n",
        "The `range(15)` function will generate the whole numbers between `0` and `15` excluding `15`. Refer to the code shown below.\n",
        "\n"
      ]
    },
    {
      "cell_type": "code",
      "metadata": {
        "id": "PvdTzHZu5ZyD",
        "colab_type": "code",
        "colab": {
          "base_uri": "https://localhost:8080/",
          "height": 272
        },
        "outputId": "462ef394-bd82-4c2c-991e-f7128f220b5f"
      },
      "source": [
        "# Case 1: Only the 'stop' parameter is defined.\n",
        "for i in range(15):\n",
        "  print(i)"
      ],
      "execution_count": null,
      "outputs": [
        {
          "output_type": "stream",
          "text": [
            "0\n",
            "1\n",
            "2\n",
            "3\n",
            "4\n",
            "5\n",
            "6\n",
            "7\n",
            "8\n",
            "9\n",
            "10\n",
            "11\n",
            "12\n",
            "13\n",
            "14\n"
          ],
          "name": "stdout"
        }
      ]
    },
    {
      "cell_type": "markdown",
      "metadata": {
        "id": "ToG9wpn9-9-u",
        "colab_type": "text"
      },
      "source": [
        "**Case 2: Both the `start` and `stop` parameters are defined.**\n",
        "\n",
        "The `range(2, 15)` function will generate the natural numbers between `2` and `15` excluding `15`. Refer to the code shown below.\n"
      ]
    },
    {
      "cell_type": "code",
      "metadata": {
        "id": "VVvEl1K7_A3a",
        "colab_type": "code",
        "colab": {
          "base_uri": "https://localhost:8080/",
          "height": 238
        },
        "outputId": "783d970b-a8c8-46c5-8cbf-ed3d906cc35f"
      },
      "source": [
        "# Case 2: Both the 'start' and 'stop' parameters are defined.\n",
        "for i in range(2, 15):\n",
        "  print(i)"
      ],
      "execution_count": null,
      "outputs": [
        {
          "output_type": "stream",
          "text": [
            "2\n",
            "3\n",
            "4\n",
            "5\n",
            "6\n",
            "7\n",
            "8\n",
            "9\n",
            "10\n",
            "11\n",
            "12\n",
            "13\n",
            "14\n"
          ],
          "name": "stdout"
        }
      ]
    },
    {
      "cell_type": "markdown",
      "metadata": {
        "id": "75uEAjm95k0c",
        "colab_type": "text"
      },
      "source": [
        "**Case 3: All three parameters (`start, stop` & `step`) are defined.**\n",
        "\n",
        "The `range(2, 15, 4)` will generate the natural numbers between `2` and `15` excluding `15` such that the difference between any two consecutive numbers is `4`. Refer to the code shown below."
      ]
    },
    {
      "cell_type": "code",
      "metadata": {
        "id": "OiVmd-0V6Ojo",
        "colab_type": "code",
        "colab": {
          "base_uri": "https://localhost:8080/",
          "height": 85
        },
        "outputId": "75c0b77f-fe88-4cdb-ff34-2b57bdc6c00f"
      },
      "source": [
        "# Case 3: All three parameters are defined.\n",
        "for i in range(2, 15, 4):\n",
        "  print(i)"
      ],
      "execution_count": null,
      "outputs": [
        {
          "output_type": "stream",
          "text": [
            "2\n",
            "6\n",
            "10\n",
            "14\n"
          ],
          "name": "stdout"
        }
      ]
    },
    {
      "cell_type": "markdown",
      "metadata": {
        "id": "rloPqKUiT78S",
        "colab_type": "text"
      },
      "source": [
        "Now you are in a position to easily implement the Sieve of Eratosthenes algorithm in Python."
      ]
    },
    {
      "cell_type": "markdown",
      "metadata": {
        "id": "0LPKkKajTVU6",
        "colab_type": "text"
      },
      "source": [
        "---"
      ]
    },
    {
      "cell_type": "markdown",
      "metadata": {
        "id": "G2wH1hOOSEZN",
        "colab_type": "text"
      },
      "source": [
        "### Implementing The Algorithm Using Python Lists\n",
        "\n",
        "The algorithm should:\n",
        "\n",
        "1. Ask a user to provide the length of the required list. In other words, how many natural numbers (starting from 2) to be contained in a Python list.\n",
        "\n",
        "2. Create a Python list either using the list comprehension method or the conventional list creation method.\n",
        "\n",
        "3. Iterate through each number on the list and replace all the multiples of a number with `0` until ONLY **the actual prime numbers** are left on the list.\n",
        "\n",
        "Here is a quick step-by-step demo on how you can implement the Sieve of Eratosthenes algorithm in Python.\n",
        "\n",
        "\n",
        "**Step 1: Take input from a user**\n",
        "\n",
        "Let us ask the user for a number, till which they need all primes. \n"
      ]
    },
    {
      "cell_type": "code",
      "metadata": {
        "id": "MincBfnkSMK_",
        "colab_type": "code",
        "colab": {}
      },
      "source": [
        "# Step 1\n",
        "n = input(\"Please enter a number till which you need all primes: \")"
      ],
      "execution_count": null,
      "outputs": []
    },
    {
      "cell_type": "markdown",
      "metadata": {
        "id": "Qjb_cfBlSQ0X",
        "colab_type": "text"
      },
      "source": [
        "The `input()` function accepts the user input as a string (`str`). So, we need to convert it to an integer (`int`) using the int() function.\n"
      ]
    },
    {
      "cell_type": "code",
      "metadata": {
        "id": "Ox7zeW4LSUmA",
        "colab_type": "code",
        "colab": {
          "base_uri": "https://localhost:8080/",
          "height": 35
        },
        "outputId": "1efee884-7f76-47ff-c297-f6b2ac1f3470"
      },
      "source": [
        "# Step 1.1\n",
        "n = input(\"Please enter a number till which you need all primes: \")\n",
        "n = int(n)"
      ],
      "execution_count": null,
      "outputs": [
        {
          "output_type": "stream",
          "text": [
            "Please enter a number till which you need all primes: 10\n"
          ],
          "name": "stdout"
        }
      ]
    },
    {
      "cell_type": "markdown",
      "metadata": {
        "id": "4ZSboPE6SYGI",
        "colab_type": "text"
      },
      "source": [
        "**Step 2: Create a Python list**\n",
        "\n",
        "Now, you need to add all the numbers starting from $2$ to $N$ in a Python list, where $N = (n + 1)$ is the last natural number on the list. You need to operate on this list and replace the multiples of primes with zeros.\n",
        "\n"
      ]
    },
    {
      "cell_type": "code",
      "metadata": {
        "id": "ERxpDsl-Sbvm",
        "colab_type": "code",
        "colab": {
          "base_uri": "https://localhost:8080/",
          "height": 35
        },
        "outputId": "08ecf130-c9e9-4a08-cc5a-55dddc2efb1b"
      },
      "source": [
        "# Step 2\n",
        "n = input(\"Please enter a number till which you need all primes: \")\n",
        "n = int(n)\n",
        "primes = [i for i in range(2, n + 1)]"
      ],
      "execution_count": null,
      "outputs": [
        {
          "output_type": "stream",
          "text": [
            "Please enter a number till which you need all primes: 10\n"
          ],
          "name": "stdout"
        }
      ]
    },
    {
      "cell_type": "markdown",
      "metadata": {
        "id": "j5QEzqpaSepY",
        "colab_type": "text"
      },
      "source": [
        "Now print the items stored in the `primes` list to verify whether the required list is created or not."
      ]
    },
    {
      "cell_type": "code",
      "metadata": {
        "id": "Uk376pXbSham",
        "colab_type": "code",
        "colab": {
          "base_uri": "https://localhost:8080/",
          "height": 52
        },
        "outputId": "2d2cb17e-3f36-47fc-e71f-857d6253ea3d"
      },
      "source": [
        "# Converting the user input to an integer value in the first step itself.\n",
        "n = int(input(\"Please enter a number till which you need all primes: \"))\n",
        "primes = [i for i in range(2, n + 1)]  \n",
        "print(primes)"
      ],
      "execution_count": null,
      "outputs": [
        {
          "output_type": "stream",
          "text": [
            "Please enter a number till which you need all primes: 10\n",
            "[2, 3, 4, 5, 6, 7, 8, 9, 10]\n"
          ],
          "name": "stdout"
        }
      ]
    },
    {
      "cell_type": "markdown",
      "metadata": {
        "id": "5XJwrfsWSg5H",
        "colab_type": "text"
      },
      "source": [
        "**Step 3 Discard the multiples of every number from the list**\n",
        "\n",
        "Now, you need to discard the multiples of 2, 3, 4, and so on... from the list.\n",
        "\n",
        "1. Create a variable and name it `current_prime`. Set its value equal to `2`. \n",
        "\n",
        "2. Run the `for` loop starting from the `current_prime` value until `len(primes)` value such that the difference between the two consecutive numbers is equal to the `current_prime` value.\n",
        "   \n",
        "   - Inside the `for` loop, set the value stored in the `primes` list at index `i` equal to `0` at every iteration.\n",
        "\n",
        "Refer to the code shown below."
      ]
    },
    {
      "cell_type": "code",
      "metadata": {
        "id": "2p4MWGNlWtR1",
        "colab_type": "code",
        "colab": {
          "base_uri": "https://localhost:8080/",
          "height": 105
        },
        "outputId": "7b7440a9-b7eb-49db-83dd-6dd9ebff5395"
      },
      "source": [
        "# Step 3: Discarding the multiples of 2 (except 2).\n",
        "n = int(input(\"Please enter a number till which you need all primes: \"))\n",
        "primes = [i for i in range(2, n + 1)]  \n",
        "print(\"Before discarding.\")\n",
        "print(primes)\n",
        "\n",
        "# Setting all the multiples of 2 (except 2) equal to 0.\n",
        "current_prime = 2\n",
        "for i in range(current_prime + 0, len(primes), current_prime):\n",
        "  primes[i] = 0\n",
        "\n",
        "print(\"After discarding the multiples of 2.\")\n",
        "print(primes)"
      ],
      "execution_count": null,
      "outputs": [
        {
          "output_type": "stream",
          "text": [
            "Please enter a number till which you need all primes: 10\n",
            "Before discarding.\n",
            "[2, 3, 4, 5, 6, 7, 8, 9, 10]\n",
            "After discarding the multiples of 2.\n",
            "[2, 3, 0, 5, 0, 7, 0, 9, 0]\n"
          ],
          "name": "stdout"
        }
      ]
    },
    {
      "cell_type": "markdown",
      "metadata": {
        "id": "mxqlcZ57X26X",
        "colab_type": "text"
      },
      "source": [
        "Now, set the `current_prime` value equal to `3` and repeat the process again to eliminate the multiples of `3`. "
      ]
    },
    {
      "cell_type": "code",
      "metadata": {
        "id": "vTOl15bHEUXg",
        "colab_type": "code",
        "colab": {
          "base_uri": "https://localhost:8080/",
          "height": 140
        },
        "outputId": "9e6d4e15-be40-4b34-d6ea-5417fe6ad51d"
      },
      "source": [
        "# Discarding the multiples of 2 & 3 (except 2 & 3).\n",
        "n = int(input(\"Please enter a number till which you need all primes: \"))\n",
        "primes = [i for i in range(2, n + 1)]  \n",
        "print(\"Before discarding.\")\n",
        "print(primes)\n",
        "\n",
        "# Setting all the multiples of 2 (except 2) equal to 0.\n",
        "current_prime = 2\n",
        "for i in range(current_prime + 0, len(primes), current_prime):\n",
        "  primes[i] = 0\n",
        "\n",
        "print(\"After discarding the multiples of 2 except 2.\")\n",
        "print(primes)\n",
        "\n",
        "# Setting all the multiples of 3 (except 3) equal to 0.\n",
        "current_prime = 3\n",
        "for i in range(current_prime + 1, len(primes), current_prime):\n",
        "  primes[i] = 0\n",
        "\n",
        "print(\"After discarding the multiples of 3 except 3.\")\n",
        "print(primes)"
      ],
      "execution_count": null,
      "outputs": [
        {
          "output_type": "stream",
          "text": [
            "Please enter a number till which you need all primes: 10\n",
            "Before discarding.\n",
            "[2, 3, 4, 5, 6, 7, 8, 9, 10]\n",
            "After discarding the multiples of 2 except 2.\n",
            "[2, 3, 0, 5, 0, 7, 0, 9, 0]\n",
            "After discarding the multiples of 3 except 3.\n",
            "[2, 3, 0, 5, 0, 7, 0, 0, 0]\n"
          ],
          "name": "stdout"
        }
      ]
    },
    {
      "cell_type": "markdown",
      "metadata": {
        "id": "M8NnkGcJe2gt",
        "colab_type": "text"
      },
      "source": [
        "Now, set the `current_prime` value equal to `4` and repeat the process again to eliminate the multiples of `4`. "
      ]
    },
    {
      "cell_type": "code",
      "metadata": {
        "id": "DyNMwBNJe13Z",
        "colab_type": "code",
        "colab": {
          "base_uri": "https://localhost:8080/",
          "height": 175
        },
        "outputId": "2ad7af90-17e6-403a-f856-eec65b2e558e"
      },
      "source": [
        "# Discarding the multiples of 2, 3 & 4 (except 2, 3 & 4).\n",
        "n = int(input(\"Please enter a number till which you need all primes: \"))\n",
        "primes = [i for i in range(2, n + 1)]  \n",
        "print(\"Before discarding.\")\n",
        "print(primes)\n",
        "\n",
        "# Setting all the multiples of 2 (except 2) equal to 0.\n",
        "current_prime = 2\n",
        "for i in range(current_prime + 0, len(primes), current_prime):\n",
        "  primes[i] = 0\n",
        "\n",
        "print(\"After discarding the multiples of 2 except 2.\")\n",
        "print(primes)\n",
        "\n",
        "# Setting all the multiples of 3 (except 3) equal to 0.\n",
        "current_prime = 3\n",
        "for i in range(current_prime + 1, len(primes), current_prime):\n",
        "  primes[i] = 0\n",
        "\n",
        "print(\"After discarding the multiples of 3 except 3.\")\n",
        "print(primes)\n",
        "\n",
        "# Setting all the multiples of 4 (except 4) equal to 0.\n",
        "current_prime = 4\n",
        "for i in range(current_prime + 2, len(primes), current_prime):\n",
        "  primes[i] = 0\n",
        "\n",
        "print(\"After discarding the multiples of 4 except 4.\")\n",
        "print(primes)"
      ],
      "execution_count": null,
      "outputs": [
        {
          "output_type": "stream",
          "text": [
            "Please enter a number till which you need all primes: 20\n",
            "Before discarding.\n",
            "[2, 3, 4, 5, 6, 7, 8, 9, 10, 11, 12, 13, 14, 15, 16, 17, 18, 19, 20]\n",
            "After discarding the multiples of 2 except 2.\n",
            "[2, 3, 0, 5, 0, 7, 0, 9, 0, 11, 0, 13, 0, 15, 0, 17, 0, 19, 0]\n",
            "After discarding the multiples of 3 except 3.\n",
            "[2, 3, 0, 5, 0, 7, 0, 0, 0, 11, 0, 13, 0, 0, 0, 17, 0, 19, 0]\n",
            "After discarding the multiples of 4 except 4.\n",
            "[2, 3, 0, 5, 0, 7, 0, 0, 0, 11, 0, 13, 0, 0, 0, 17, 0, 19, 0]\n"
          ],
          "name": "stdout"
        }
      ]
    },
    {
      "cell_type": "markdown",
      "metadata": {
        "id": "HhUtha0HdE-u",
        "colab_type": "text"
      },
      "source": [
        "Similarly, for `current_prime = 5`, you need to discard all the multiples of `5` from the `primes` list. You need to continue this process until the last number on the list. In this case, the last number is `50`.\n",
        "\n",
        "This means you will have to create another loop to iterate through all the numbers in the `primes` list to replace all their multiples with `0`.\n"
      ]
    },
    {
      "cell_type": "markdown",
      "metadata": {
        "id": "Me7O_NfEsfn7",
        "colab_type": "text"
      },
      "source": [
        "---"
      ]
    },
    {
      "cell_type": "markdown",
      "metadata": {
        "id": "U9ozM4A_sdnA",
        "colab_type": "text"
      },
      "source": [
        "### The Solution\n",
        "\n",
        "Now, you are required to create another `for` loop which iterates through every multiple of a number in the `primes` list and replaces the multiples with `0`.\n",
        "\n",
        "For your convenience, some part of the code is provided to you. You need to finish the remaining part of the code to implement the Sieve of Eratosthenes algorithm in Python."
      ]
    },
    {
      "cell_type": "code",
      "metadata": {
        "colab_type": "code",
        "id": "beU8FAIVgaZw",
        "colab": {
          "base_uri": "https://localhost:8080/",
          "height": 125
        },
        "outputId": "148fde65-a5be-401b-a2a7-b7d1fdc512a6"
      },
      "source": [
        "# Required solution.\n",
        "n = int(input(\"Please enter a number till which you need all primes: \"))\n",
        "primes = [i for i in range(2, n + 1)]\n",
        "print(\"Original list:\")\n",
        "print(primes)\n",
        "\n",
        "for i in range(len(primes)):\n",
        "  current_prime = primes[i]\n",
        "  if current_prime != 0:\n",
        "    # Write your code frome here.\n",
        "    for j in range(current_prime+i,len(primes),current_prime):\n",
        "      primes[j]=0\n",
        "\n",
        "print(\"Prime list:\")\n",
        "print(primes)"
      ],
      "execution_count": null,
      "outputs": [
        {
          "output_type": "stream",
          "text": [
            "Please enter a number till which you need all primes: 50\n",
            "Original list:\n",
            "[2, 3, 4, 5, 6, 7, 8, 9, 10, 11, 12, 13, 14, 15, 16, 17, 18, 19, 20, 21, 22, 23, 24, 25, 26, 27, 28, 29, 30, 31, 32, 33, 34, 35, 36, 37, 38, 39, 40, 41, 42, 43, 44, 45, 46, 47, 48, 49, 50]\n",
            "Prime list:\n",
            "[2, 3, 0, 5, 0, 7, 0, 0, 0, 11, 0, 13, 0, 0, 0, 17, 0, 19, 0, 0, 0, 23, 0, 0, 0, 0, 0, 29, 0, 31, 0, 0, 0, 0, 0, 37, 0, 0, 0, 41, 0, 43, 0, 0, 0, 47, 0, 0, 0]\n"
          ],
          "name": "stdout"
        }
      ]
    },
    {
      "cell_type": "markdown",
      "metadata": {
        "id": "CxYSWdoDlZEX",
        "colab_type": "text"
      },
      "source": [
        "---"
      ]
    },
    {
      "cell_type": "markdown",
      "metadata": {
        "id": "uR2i8X__K3px",
        "colab_type": "text"
      },
      "source": [
        "### Alternate Approach\n",
        "\n",
        "The algorithm says to strictly start the list of numbers from `2`. However, for the ease of implementing this algorithm, you may start the list from `0` instead of starting the list from `2`. \n",
        "\n",
        "**Note:** You can submit either the first version of the solution or the alternate version of the solution as part of your project submission. If you feel like doing both, then you can attempt both the approaches to implement the Sieve of Eratosthenes algorithm in Python.\n",
        "\n",
        "The steps for implementing the Sieve of Eratosthenes algorithm in Python  with an alternate approach are as follows:\n",
        "\n",
        "1. Ask a user to provide the length of the required list. In other words, how many whole numbers to be contained in a Python list.\n",
        "\n",
        "2. Create a Python list either using the list comprehension method or the conventional list creation method.\n",
        "\n",
        "3. Iterate through each number on the list and replace all the multiples of a number with `0` until ONLY **the actual prime numbers** are left on the list. The numbers `0` and `1` will be part of the list.\n",
        "\n",
        "4. Use list indexing method to remove the items `0` and `1` from the list.\n",
        "\n",
        "Here is a quick step-by-step demo on how you can implement the Sieve of Eratosthenes algorithm in Python.\n",
        "\n",
        "**Step 1: Take input from a user.**\n",
        "\n",
        "Let us ask the user for a number, till which he/she needs all primes. "
      ]
    },
    {
      "cell_type": "code",
      "metadata": {
        "id": "B_P4jRpxOa7X",
        "colab_type": "code",
        "colab": {}
      },
      "source": [
        "# Step 1: Take input from a user.\n",
        "n = int(input(\"Please enter a number till which you need all primes: \"))"
      ],
      "execution_count": null,
      "outputs": []
    },
    {
      "cell_type": "markdown",
      "metadata": {
        "id": "lgg0g_JDOe4Y",
        "colab_type": "text"
      },
      "source": [
        "**Step 2: Create a Python list.**\n",
        "\n",
        "Now, you need to add all the numbers starting from $0$ to $N$ in a Python list, where $N = (n + 1)$ is the last whole number on the list. You need to operate on this list and replace the multiples of primes with zeros.\n"
      ]
    },
    {
      "cell_type": "code",
      "metadata": {
        "id": "WuEV1z5_O6VT",
        "colab_type": "code",
        "colab": {}
      },
      "source": [
        "# Step 2: Create a Python list of whole numbers.\n",
        "n = int(input(\"Please enter a number till which you need all primes: \"))\n",
        "primes = [i for i in range(n + 1)]  \n",
        "print(primes)"
      ],
      "execution_count": null,
      "outputs": []
    },
    {
      "cell_type": "markdown",
      "metadata": {
        "id": "HjrY2vt-PMvG",
        "colab_type": "text"
      },
      "source": [
        "**Step 3: Discard the multiples of every number from the list.**\n",
        "\n",
        "Now, you need to discard the multiples of 2, 3, 4, and so on... from the list.\n",
        "\n",
        "1. Create a variable and name it `current_prime`. Set its value equal to `2`. \n",
        "\n",
        "2. Run the `for` loop starting from the `current_prime * 2` value until `len(primes)` value such that the difference between the two consecutive numbers is equal to the `current_prime` value.\n",
        "   \n",
        "   - Inside the `for` loop, set the value stored in the `primes` list at index `i` equal to `0` at every iteration.\n",
        "\n",
        "Refer to the code shown below."
      ]
    },
    {
      "cell_type": "code",
      "metadata": {
        "id": "BZ9EKHcYPR52",
        "colab_type": "code",
        "colab": {
          "base_uri": "https://localhost:8080/",
          "height": 105
        },
        "outputId": "21934180-f500-49fe-e581-b49cf45b2049"
      },
      "source": [
        "# Step 3: Discarding the multiples of 2 (except 2).\n",
        "n = int(input(\"Please enter a number till which you need all primes: \"))\n",
        "primes = [i for i in range(n + 1)]  \n",
        "print(\"Before discarding.\")\n",
        "print(primes)\n",
        "\n",
        "# Setting all the multiples of 2 (except 2) equal to 0.\n",
        "current_prime = 2\n",
        "for i in range(current_prime * 2, len(primes), current_prime):\n",
        "  primes[i] = 0\n",
        "\n",
        "print(\"After discarding the multiples of 2.\")\n",
        "print(primes)"
      ],
      "execution_count": null,
      "outputs": [
        {
          "output_type": "stream",
          "text": [
            "Please enter a number till which you need all primes: 10\n",
            "Before discarding.\n",
            "[0, 1, 2, 3, 4, 5, 6, 7, 8, 9, 10]\n",
            "After discarding the multiples of 2.\n",
            "[0, 1, 2, 3, 0, 5, 0, 7, 0, 9, 0]\n"
          ],
          "name": "stdout"
        }
      ]
    },
    {
      "cell_type": "markdown",
      "metadata": {
        "id": "gnTOYNgbQmQW",
        "colab_type": "text"
      },
      "source": [
        "Now, set the `current_prime` value equal to `3` and repeat the process again to eliminate the multiples of `3`. "
      ]
    },
    {
      "cell_type": "code",
      "metadata": {
        "id": "-KKo7xiSQWlP",
        "colab_type": "code",
        "colab": {}
      },
      "source": [
        "# Discarding the multiples of 2 & 3 (except 2 & 3).\n",
        "n = int(input(\"Please enter a number till which you need all primes: \"))\n",
        "primes = [i for i in range(n + 1)]  \n",
        "print(\"Before discarding.\")\n",
        "print(primes)\n",
        "\n",
        "# Setting all the multiples of 2 (except 2) equal to 0.\n",
        "current_prime = 2\n",
        "for i in range(current_prime * 2, len(primes), current_prime):\n",
        "  primes[i] = 0\n",
        "\n",
        "print(\"After discarding the multiples of 2 except 2.\")\n",
        "print(primes)\n",
        "\n",
        "# Setting all the multiples of 3 (except 3) equal to 0.\n",
        "current_prime = 3\n",
        "for i in range(current_prime * 2, len(primes), current_prime):\n",
        "  primes[i] = 0\n",
        "\n",
        "print(\"After discarding the multiples of 3 except 3.\")\n",
        "print(primes)"
      ],
      "execution_count": null,
      "outputs": []
    },
    {
      "cell_type": "markdown",
      "metadata": {
        "id": "BsWfUDbJQurF",
        "colab_type": "text"
      },
      "source": [
        "Now, set the `current_prime` value equal to `4` and repeat the process again to eliminate the multiples of `4`. "
      ]
    },
    {
      "cell_type": "code",
      "metadata": {
        "id": "DkJ6Am6aQw33",
        "colab_type": "code",
        "colab": {}
      },
      "source": [
        "# Discarding the multiples of 2 & 3 (except 2 & 3).\n",
        "n = int(input(\"Please enter a number till which you need all primes: \"))\n",
        "primes = [i for i in range(n + 1)]  \n",
        "print(\"Before discarding.\")\n",
        "print(primes)\n",
        "\n",
        "# Setting all the multiples of 2 (except 2) equal to 0.\n",
        "current_prime = 2\n",
        "for i in range(current_prime * 2, len(primes), current_prime):\n",
        "  primes[i] = 0\n",
        "\n",
        "print(\"After discarding the multiples of 2 except 2.\")\n",
        "print(primes)\n",
        "\n",
        "# Setting all the multiples of 4 (except 4) equal to 0.\n",
        "current_prime = 4\n",
        "for i in range(current_prime * 2, len(primes), current_prime):\n",
        "  primes[i] = 0\n",
        "\n",
        "print(\"After discarding the multiples of 4 except 4.\")\n",
        "print(primes)"
      ],
      "execution_count": null,
      "outputs": []
    },
    {
      "cell_type": "markdown",
      "metadata": {
        "id": "Q7kPfnrCQ9qn",
        "colab_type": "text"
      },
      "source": [
        "Similarly, for `current_prime = 5`, you need to discard all the multiples of `5` from the `primes` list. You need to continue this process till the last number on the list. In this case, the last number is `50`.\n",
        "\n",
        "This means you will have to create another loop to iterate through all the numbers in the `primes` list to replace all their multiples with `0`.\n"
      ]
    },
    {
      "cell_type": "markdown",
      "metadata": {
        "id": "HIwqFkMxRIQd",
        "colab_type": "text"
      },
      "source": [
        "---"
      ]
    },
    {
      "cell_type": "markdown",
      "metadata": {
        "id": "BUWxzOWZRJI5",
        "colab_type": "text"
      },
      "source": [
        "### The Alternate Solution\n",
        "\n",
        "Now, you are required to create another `for` loop which iterates through every multiple of a number in the `primes` list and replaces the multiples with `0`.\n",
        "\n",
        "For your convenience, some part of the code is provided to you. You need to finish the remaining part of the code to implement the Sieve of Eratosthenes algorithm in Python."
      ]
    },
    {
      "cell_type": "code",
      "metadata": {
        "id": "lseR9yiDLPc7",
        "colab_type": "code",
        "colab": {
          "base_uri": "https://localhost:8080/",
          "height": 105
        },
        "outputId": "ca56697c-fc10-4d11-8e18-526f0f86c804"
      },
      "source": [
        "# Required Alternate Solution.\n",
        "n = int(input(\"Please enter a number till which you need all primes: \"))\n",
        "primes = [i for i in range(n + 1)]\n",
        "print(\"Original List:\")\n",
        "print(primes)\n",
        "for prime in range(2, len(primes)):\n",
        "  current_prime = prime\n",
        "  if current_prime != 0: \n",
        "    # Write your code from here.  \n",
        "    for j in range(current_prime*2,len(primes),current_prime):\n",
        "      primes[j]=0\n",
        "\n",
        "print(\"Prime number List:\")\n",
        "print(primes)"
      ],
      "execution_count": null,
      "outputs": [
        {
          "output_type": "stream",
          "text": [
            "Please enter a number till which you need all primes: 10\n",
            "Original List:\n",
            "[0, 1, 2, 3, 4, 5, 6, 7, 8, 9, 10]\n",
            "Prime number List:\n",
            "[0, 1, 2, 3, 0, 5, 0, 7, 0, 0, 0]\n"
          ],
          "name": "stdout"
        }
      ]
    },
    {
      "cell_type": "markdown",
      "metadata": {
        "id": "5-0dh-cJShao",
        "colab_type": "text"
      },
      "source": [
        "---"
      ]
    },
    {
      "cell_type": "markdown",
      "metadata": {
        "id": "8GYKjsLfxLhg",
        "colab_type": "text"
      },
      "source": [
        "### How To Solve & Submit The Project\n",
        "\n",
        "Follow the steps described below to solve the project and then submit it.\n",
        "\n",
        "1. Click on the link provided below to open the Colab file for this project.\n",
        "   \n",
        "   https://colab.research.google.com/drive/1NKb6wvM6k-Hbp1yjhyy2MiYBQhlyhP4w\n",
        "\n",
        "2. Create the duplicate copy of the Colab file. Here are the steps to create the duplicate copy:\n",
        "\n",
        "    - Click on the **File** menu. A new drop-down list will appear.\n",
        "\n",
        "      <img src='https://student-datasets-bucket.s3.ap-south-1.amazonaws.com/images/lesson-0/0_file_menu.png' width=500>\n",
        "\n",
        "    - Click on the **Save a copy in Drive** option. A duplicate copy will get created. It will open up in the new tab on your web browser.\n",
        "\n",
        "      <img src='https://student-datasets-bucket.s3.ap-south-1.amazonaws.com/images/lesson-0/1_create_colab_duplicate_copy.png' width=500>\n",
        "\n",
        "     - After creating the duplicate copy of the notebook, please rename it in the **YYYY-MM-DD_StudentName_Project3** format. \n",
        "\n",
        "3. Now, write your code in the prescribed code cells.\n",
        "\n",
        "4. After finishing the project, click on the **Share** button on the top right corner of the notebook. A new dialog box will appear.\n",
        "\n",
        "  <img src='https://student-datasets-bucket.s3.ap-south-1.amazonaws.com/images/lesson-0/2_share_button.png' width=500>\n",
        "\n",
        "5. In the dialog box, click on the **Copy link** button.\n",
        "\n",
        "   <img src='https://student-datasets-bucket.s3.ap-south-1.amazonaws.com/images/project-1/1_copy_link.png' width=500>\n",
        "\n",
        "6. The link of the duplicate copy (named as **YYYY-MM-DD_StudentName_Project3**) of the notebook will get copied which you can paste in the submission box on the WhiteHat Jr project submission interface.\n",
        "\n",
        "   <img src='https://student-datasets-bucket.s3.ap-south-1.amazonaws.com/images/project-1/2_copy_link_confirmation.png' width=500>"
      ]
    },
    {
      "cell_type": "markdown",
      "metadata": {
        "id": "jv9JHQZKxKRQ",
        "colab_type": "text"
      },
      "source": [
        "---"
      ]
    }
  ]
}