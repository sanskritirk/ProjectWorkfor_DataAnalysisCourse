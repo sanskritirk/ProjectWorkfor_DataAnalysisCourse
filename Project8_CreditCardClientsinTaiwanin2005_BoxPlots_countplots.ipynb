{
  "nbformat": 4,
  "nbformat_minor": 0,
  "metadata": {
    "colab": {
      "name": "2020-05-19_SanskritiKanagala_Project8",
      "provenance": [],
      "collapsed_sections": [],
      "include_colab_link": true
    },
    "kernelspec": {
      "name": "python3",
      "display_name": "Python 3"
    }
  },
  "cells": [
    {
      "cell_type": "markdown",
      "metadata": {
        "id": "view-in-github",
        "colab_type": "text"
      },
      "source": [
        "<a href=\"https://colab.research.google.com/github/sanskritirk/ProjectWorkfor_DataAnalysisCourse/blob/master/Project8_CreditCardClientsinTaiwanin2005_BoxPlots_countplots.ipynb\" target=\"_parent\"><img src=\"https://colab.research.google.com/assets/colab-badge.svg\" alt=\"Open In Colab\"/></a>"
      ]
    },
    {
      "cell_type": "markdown",
      "metadata": {
        "id": "ZPaZWzKAUtW0",
        "colab_type": "text"
      },
      "source": [
        "# Project 8: Credit Card Clients in Taiwan in 2005 - Box Plots, Count Plots & Histograms"
      ]
    },
    {
      "cell_type": "markdown",
      "metadata": {
        "id": "YxZWCaQCaFZE",
        "colab_type": "text"
      },
      "source": [
        "---"
      ]
    },
    {
      "cell_type": "markdown",
      "metadata": {
        "id": "uitR6TtIC1Oq",
        "colab_type": "text"
      },
      "source": [
        "### Context\n",
        "\n",
        "The credit card companies maintain comprehensive data about each of their clients to ensure that they pay back to the company on time otherwise, the company will incur a huge loss after all it is the company that is making the payment on behalf of the client. \n",
        "\n",
        "Based on the financial capability of a client, they get a credit limit, i.e., the maximum amount they can spend in a month through a credit card. This is to ensure that a client is able to pay back to the company. They also get a one month time window (likely to vary from company to company) to pay back without attracting any fine or late payment charges. \n",
        "\n",
        "You can read about the late payment charges for the HDFC bank credit cards by clicking on the link provided below.\n",
        "\n",
        "[HDFC Bank Credit Card Terms & Conditions](https://www.hdfcbank.com/content/bbp/repositories/723fb80a-2dde-42a3-9793-7ae1be57c87f/?path=/Personal/Pay/Cards/Credit%20Card/Credit%20Card%20Landing%20Page/Credit%20Cards/CASH%20BACK/Money%20Back/cc-common-MITC.pdf)\n",
        "\n",
        "Credit card companies make a huge profit by charging about 2% or 3% of the amount as a transaction fee to the merchant (or seller) at the point of sale. They also heavily bank on the delay in the repayment by a credit card holder so that they can make a profit by charging huge late payment fees. However, the latter comes with a risk. Hence, in order to assess the degree of risk a credit card company should afford to take by giving away credit cards to the general public or an organisation, they maintain data about each of their clients. By analysing the data, they can know what would be the maximum amount they won't be able to recover from their clients yet able to make a significant profit in a financial year to run a sustainable business.\n",
        "\n",
        "You can read more about how credit card companies make money by clicking on the link provided below.\n",
        "\n",
        "[How Credit Card Companies Make Money?](https://www.investopedia.com/articles/personal-finance/080916/how-credit-card-companies-make-money.asp)\n",
        "\n",
        "Making payments through credit cards is a privilege. Hence, it must be used wisely and only when there is a need. From a consumer point of view, despite having risks, credit cards have few advantages too. Click on the link provided below to learn about the advantages of having a credit card.\n",
        "\n",
        "[Advantages of a Credit Card](https://www.investopedia.com/articles/pf/10/credit-card-debit-card.asp)"
      ]
    },
    {
      "cell_type": "markdown",
      "metadata": {
        "id": "SEI3nnNZCPEu",
        "colab_type": "text"
      },
      "source": [
        "---"
      ]
    },
    {
      "cell_type": "markdown",
      "metadata": {
        "id": "NREkvCX5CPox",
        "colab_type": "text"
      },
      "source": [
        "### Problem Statement\n",
        "\n",
        "The credit card clients dataset is full of irregularities and incorrect values. You need to replace them with the right values. Additionally, you have to create box plots, count plots and histograms to find a specific trend (if there exists) in the dataset."
      ]
    },
    {
      "cell_type": "markdown",
      "metadata": {
        "id": "HsRmwEOoCO5m",
        "colab_type": "text"
      },
      "source": [
        "---"
      ]
    },
    {
      "cell_type": "markdown",
      "metadata": {
        "id": "ibTCN41WcROt",
        "colab_type": "text"
      },
      "source": [
        "### Dataset Information\n",
        "\n",
        "This dataset contains information on default payments, demographic factors, credit data, history of payment, and bill statements of credit card clients in Taiwan from April 2005 to September 2005. There are 25 features in the dataset. They are as follows:\n",
        "\n",
        "1. `ID:` Identification of each credit card client\n",
        "\n",
        "2. `LIMIT_BAL:` The maximum amount or credit (in NT dollar) a client can spend in a month (includes individual and family/supplementary credit)\n",
        "\n",
        "3. `SEX`: Gender of a client where`1` denotes male client and `2` denotes a female client\n",
        "\n",
        "4. `EDUCATION`: Education qualification of a credit card holder: \n",
        "\n",
        "      - `1` denotes that a client graduated from a graduate school \n",
        "\n",
        "      - `2` denotes that a client is a university graduate\n",
        "\n",
        "      - `3` denotes that a client is a high school graduate\n",
        "\n",
        "      - `4` denotes that a client graduated from some other institution\n",
        "\n",
        "      - `5` denotes that the graduation status of a client is unknown\n",
        "\n",
        "5. `MARRIAGE`: Marital status of a client:\n",
        "    \n",
        "      - `1` denotes that the client is married \n",
        "      \n",
        "      - `2` denotes that the client is single or unmarried \n",
        "      \n",
        "      - `3` covers all the other possibilities of marital status such as divorced, widowed etc\n",
        "\n",
        "6. `AGE`: Age of a client in years\n",
        "\n",
        "7. `PAY_0`: Repayment status of a client in September 2005\n",
        "      \n",
        "      - `-1` denotes the payment is not due \n",
        "\n",
        "      - `1` denotes that the payment is delayed by one month\n",
        "\n",
        "      - `2` denotes that the payment is delayed by two months\n",
        "\n",
        "        ...\n",
        "\n",
        "      - `8` denotes that the payment is delayed by eight months \n",
        "\n",
        "      - `9` denotes that the payment is delayed by nine months and above\n",
        "\n",
        "8. `PAY_2`: Repayment status of a client in August 2005 (scale same as above)\n",
        "\n",
        "9. `PAY_3`: Repayment status of a client in July 2005 (scale same as above)\n",
        "\n",
        "10. `PAY_4`: Repayment status of a client in June 2005 (scale same as above)\n",
        "\n",
        "11. `PAY_5`: Repayment status of a client in May 2005 (scale same as above)\n",
        "\n",
        "12. `PAY_6`: Repayment status of a client in April 2005 (scale same as above)\n",
        "\n",
        "13. `BILL_AMT1`: Amount of bill statement in September 2005 (NT dollar)\n",
        "\n",
        "14. `BILL_AMT2`: Amount of bill statement in August 2005 (NT dollar)\n",
        "\n",
        "15. `BILL_AMT3`: Amount of bill statement in July 2005 (NT dollar)\n",
        "\n",
        "16. `BILL_AMT4`: Amount of bill statement in June 2005 (NT dollar)\n",
        "\n",
        "17. `BILL_AMT5`: Amount of bill statement in May 2005 (NT dollar)\n",
        "\n",
        "18. `BILL_AMT6`: Amount of bill statement in April 2005 (NT dollar)\n",
        "\n",
        "19. `PAY_AMT1`: Amount of previous payment in September 2005 (NT dollar)\n",
        "\n",
        "20. `PAY_AMT2`: Amount of previous payment in August 2005 (NT dollar)\n",
        "\n",
        "21. `PAY_AMT3`: Amount of previous payment in July 2005 (NT dollar)\n",
        "\n",
        "22. `PAY_AMT4`: Amount of previous payment in June 2005 (NT dollar)\n",
        "\n",
        "23. `PAY_AMT5`: Amount of previous payment in May 2005 (NT dollar)\n",
        "\n",
        "24. `PAY_AMT6`: Amount of previous payment in April 2005 (NT dollar)\n",
        "\n",
        "25. `default.payment.next.month`: The default payment status of a client in the following month (October) where \n",
        "\n",
        "      - `1` means `yes` the client is a defaulter i.e., they failed to make the payment due in the following month\n",
        "\n",
        "      - `0` means `no` the client is NOT a defaulter i.e., they successfully made the payment due in the following month\n",
        "\n",
        "### Acknowledgements\n",
        "\n",
        "Lichman, M. (2013). UCI Machine Learning Repository [http://archive.ics.uci.edu/ml]. Irvine, CA: University of California, School of Information and \n",
        "Computer Science.\n",
        "\n",
        "Click on the link provided below to get the original dataset from the UCI Machine Learning repository.\n",
        "\n",
        "https://archive.ics.uci.edu/ml/datasets/default+of+credit+card+clients\n"
      ]
    },
    {
      "cell_type": "markdown",
      "metadata": {
        "id": "Qv7lPHVveNv8",
        "colab_type": "text"
      },
      "source": [
        "---"
      ]
    },
    {
      "cell_type": "markdown",
      "metadata": {
        "id": "A_qt81POeGeX",
        "colab_type": "text"
      },
      "source": [
        "### Things To Do\n",
        "\n",
        "- Create a Pandas DataFrame for the Credit Card Clients in Taiwan dataset.\n",
        "\n",
        "- The `EDUCATION, MARRIAGE` and `PAY_0` to `PAY_6` columns contain irregular or unwanted values. They need to be replaced with the correct values.\n",
        "\n",
        "- Create box plots and histograms for all the columns containing the continuous numeric values.\n",
        "\n",
        "- Create count plots for all the columns containing the categorical values, i.e., values such as discrete numeric values, string values, dates etc.\n",
        "\n"
      ]
    },
    {
      "cell_type": "markdown",
      "metadata": {
        "id": "iajcSBRmc_Sl",
        "colab_type": "text"
      },
      "source": [
        "---"
      ]
    },
    {
      "cell_type": "markdown",
      "metadata": {
        "id": "4VMUDyjSZDy2",
        "colab_type": "text"
      },
      "source": [
        "#### 1. Import Modules\n",
        "\n",
        "First import all the necessary modules to create a DataFrame and to create the required graphs."
      ]
    },
    {
      "cell_type": "code",
      "metadata": {
        "id": "HW5hcd7qbZee",
        "colab_type": "code",
        "colab": {
          "base_uri": "https://localhost:8080/",
          "height": 72
        },
        "outputId": "326b40e5-dfa8-4046-c193-439b103e3dec"
      },
      "source": [
        "# Import the modules.\n",
        "import pandas as pd\n",
        "import seaborn as sbn\n",
        "import matplotlib.pyplot as plt\n",
        "import numpy as np"
      ],
      "execution_count": null,
      "outputs": [
        {
          "output_type": "stream",
          "text": [
            "/usr/local/lib/python3.6/dist-packages/statsmodels/tools/_testing.py:19: FutureWarning: pandas.util.testing is deprecated. Use the functions in the public API at pandas.testing instead.\n",
            "  import pandas.util.testing as tm\n"
          ],
          "name": "stderr"
        }
      ]
    },
    {
      "cell_type": "markdown",
      "metadata": {
        "id": "JNdDoonSZI2C",
        "colab_type": "text"
      },
      "source": [
        "---"
      ]
    },
    {
      "cell_type": "markdown",
      "metadata": {
        "id": "HQzMvWXiZGKv",
        "colab_type": "text"
      },
      "source": [
        "#### 2. Load The Dataset\n",
        "\n",
        "Load the credit card clients dataset. Here's the link: \n",
        "\n",
        "https://student-datasets-bucket.s3.ap-south-1.amazonaws.com/whitehat-ds-datasets/uci-credit-card-fraud/UCI_Credit_Card.csv"
      ]
    },
    {
      "cell_type": "code",
      "metadata": {
        "id": "-XMAJfmOcLbi",
        "colab_type": "code",
        "colab": {}
      },
      "source": [
        "# Load the dataset.\n",
        "credit_card_df=pd.read_csv('https://student-datasets-bucket.s3.ap-south-1.amazonaws.com/whitehat-ds-datasets/uci-credit-card-fraud/UCI_Credit_Card.csv')"
      ],
      "execution_count": null,
      "outputs": []
    },
    {
      "cell_type": "markdown",
      "metadata": {
        "id": "1LsGwPIgXkpy",
        "colab_type": "text"
      },
      "source": [
        "Find out how many rows and columns are there in the dataset."
      ]
    },
    {
      "cell_type": "code",
      "metadata": {
        "id": "9IOUoHQecnev",
        "colab_type": "code",
        "colab": {
          "base_uri": "https://localhost:8080/",
          "height": 35
        },
        "outputId": "1f7b60ee-856a-424a-84bb-d746fe4f662d"
      },
      "source": [
        "# Number of rows and columns.\n",
        "credit_card_df.shape"
      ],
      "execution_count": null,
      "outputs": [
        {
          "output_type": "execute_result",
          "data": {
            "text/plain": [
              "(30000, 25)"
            ]
          },
          "metadata": {
            "tags": []
          },
          "execution_count": 3
        }
      ]
    },
    {
      "cell_type": "markdown",
      "metadata": {
        "id": "Yhkut6Y-ZoVE",
        "colab_type": "text"
      },
      "source": [
        "---"
      ]
    },
    {
      "cell_type": "markdown",
      "metadata": {
        "id": "YGT3D9AIZpJB",
        "colab_type": "text"
      },
      "source": [
        "#### 3. Check For The Missing Values\n",
        "\n",
        "Now, check whether the dataset contains any `NaN` or null or missing values."
      ]
    },
    {
      "cell_type": "code",
      "metadata": {
        "id": "L5II9k_sS24S",
        "colab_type": "code",
        "colab": {
          "base_uri": "https://localhost:8080/",
          "height": 475
        },
        "outputId": "9796eacc-34bf-4dfe-db65-c202d5a12a44"
      },
      "source": [
        "# Check for the missing values.\n",
        "credit_card_df.isnull().sum()"
      ],
      "execution_count": null,
      "outputs": [
        {
          "output_type": "execute_result",
          "data": {
            "text/plain": [
              "ID                            0\n",
              "LIMIT_BAL                     0\n",
              "SEX                           0\n",
              "EDUCATION                     0\n",
              "MARRIAGE                      0\n",
              "AGE                           0\n",
              "PAY_0                         0\n",
              "PAY_2                         0\n",
              "PAY_3                         0\n",
              "PAY_4                         0\n",
              "PAY_5                         0\n",
              "PAY_6                         0\n",
              "BILL_AMT1                     0\n",
              "BILL_AMT2                     0\n",
              "BILL_AMT3                     0\n",
              "BILL_AMT4                     0\n",
              "BILL_AMT5                     0\n",
              "BILL_AMT6                     0\n",
              "PAY_AMT1                      0\n",
              "PAY_AMT2                      0\n",
              "PAY_AMT3                      0\n",
              "PAY_AMT4                      0\n",
              "PAY_AMT5                      0\n",
              "PAY_AMT6                      0\n",
              "default.payment.next.month    0\n",
              "dtype: int64"
            ]
          },
          "metadata": {
            "tags": []
          },
          "execution_count": 4
        }
      ]
    },
    {
      "cell_type": "markdown",
      "metadata": {
        "id": "7VWeo4qrWHAK",
        "colab_type": "text"
      },
      "source": [
        "**Q:** Are there any columns containing the missing values? If 'yes', name them.\n",
        "\n",
        "**A:** There are no missing values in the column"
      ]
    },
    {
      "cell_type": "markdown",
      "metadata": {
        "id": "j4eOB_9EZtio",
        "colab_type": "text"
      },
      "source": [
        "---"
      ]
    },
    {
      "cell_type": "markdown",
      "metadata": {
        "id": "BHZKoJZ8Y1z0",
        "colab_type": "text"
      },
      "source": [
        "### 4. Data Cleaning\n",
        "\n",
        "The `EDUCATION, MARRIAGE` and `PAY_0` to `PAY_6` columns contain irregular values. You need to replace them with the correct values.\n"
      ]
    },
    {
      "cell_type": "markdown",
      "metadata": {
        "id": "d9LO_vyTZofH",
        "colab_type": "text"
      },
      "source": [
        "---"
      ]
    },
    {
      "cell_type": "markdown",
      "metadata": {
        "id": "-S4NFBVHV9ge",
        "colab_type": "text"
      },
      "source": [
        "#### 4.1 Education Qualification of Clients\n",
        "\n",
        "The `EDUCATION` column must contain the following five different types of values:\n",
        "\n",
        "- `1` denotes that a client graduated from a graduate school \n",
        "\n",
        "- `2` denotes that a client is a university graduate\n",
        "\n",
        "- `3` denotes that a client is a high school graduate\n",
        "\n",
        "- `4` denotes that a client graduated from some other institution\n",
        "\n",
        "- `5` denotes that the graduation status of a client is unknown\n",
        "\n",
        "If there are any other values in the `EDUCATION` column, replace them with `5`. Also, get the counts of each value.\n",
        "\n",
        "Calculate the counts of each value in the `EDUCATION` column."
      ]
    },
    {
      "cell_type": "code",
      "metadata": {
        "id": "tWxRPBq5uEOG",
        "colab_type": "code",
        "colab": {
          "base_uri": "https://localhost:8080/",
          "height": 158
        },
        "outputId": "deadad85-5d5f-4810-bbf8-fc35e2387eec"
      },
      "source": [
        "# Counts of each value in the 'EDUCATION' column. \n",
        "credit_card_df['EDUCATION'].value_counts()"
      ],
      "execution_count": null,
      "outputs": [
        {
          "output_type": "execute_result",
          "data": {
            "text/plain": [
              "2    14030\n",
              "1    10585\n",
              "3     4917\n",
              "5      280\n",
              "4      123\n",
              "6       51\n",
              "0       14\n",
              "Name: EDUCATION, dtype: int64"
            ]
          },
          "metadata": {
            "tags": []
          },
          "execution_count": 5
        }
      ]
    },
    {
      "cell_type": "markdown",
      "metadata": {
        "id": "hLPc25NiNxPh",
        "colab_type": "text"
      },
      "source": [
        "**Q:** What value(s) is/are contained in the `EDUCATION` column apart from the values `1` to `5`? And what will you do with them?\n",
        "\n",
        "**A:** Apart from values 1 to 5 , values such as 6 and 0 are also present in the EDUCATION column.We will replace these values with 5"
      ]
    },
    {
      "cell_type": "markdown",
      "metadata": {
        "id": "urfApLN5i-Mz",
        "colab_type": "text"
      },
      "source": [
        "**Q:** What is the data-type for the values contained in the `EDUCATION` column?\n",
        "\n",
        "**A:** Data type of values contained in the EDUCATION column is int"
      ]
    },
    {
      "cell_type": "code",
      "metadata": {
        "id": "LnAx86MMxZVE",
        "colab_type": "code",
        "colab": {
          "base_uri": "https://localhost:8080/",
          "height": 35
        },
        "outputId": "5b72d066-eea3-4015-9ad9-7215e698c2d0"
      },
      "source": [
        "# Check the data-type of the 'EDUCATION' column.\n",
        "credit_card_df['EDUCATION'].dtype"
      ],
      "execution_count": null,
      "outputs": [
        {
          "output_type": "execute_result",
          "data": {
            "text/plain": [
              "dtype('int64')"
            ]
          },
          "metadata": {
            "tags": []
          },
          "execution_count": 6
        }
      ]
    },
    {
      "cell_type": "code",
      "metadata": {
        "id": "-JJX4hJCx2jW",
        "colab_type": "code",
        "colab": {
          "base_uri": "https://localhost:8080/",
          "height": 123
        },
        "outputId": "1b962ef1-5256-4697-82a9-f9ef886b84bd"
      },
      "source": [
        "# Replace the unwanted values in the 'EDUCATION' column. Ignore if there are none.\n",
        "row_indices=credit_card_df[(credit_card_df['EDUCATION']==6)|(credit_card_df['EDUCATION']==0)].index\n",
        "credit_card_df.loc[row_indices,'EDUCATION']=5\n",
        "credit_card_df['EDUCATION'].value_counts()"
      ],
      "execution_count": null,
      "outputs": [
        {
          "output_type": "execute_result",
          "data": {
            "text/plain": [
              "2    14030\n",
              "1    10585\n",
              "3     4917\n",
              "5      345\n",
              "4      123\n",
              "Name: EDUCATION, dtype: int64"
            ]
          },
          "metadata": {
            "tags": []
          },
          "execution_count": 7
        }
      ]
    },
    {
      "cell_type": "markdown",
      "metadata": {
        "id": "IF0utc8CJ1D5",
        "colab_type": "text"
      },
      "source": [
        "Calculate the percentage of each value in the `EDUCATION` column."
      ]
    },
    {
      "cell_type": "code",
      "metadata": {
        "id": "e1zqGseoWbND",
        "colab_type": "code",
        "colab": {
          "base_uri": "https://localhost:8080/",
          "height": 123
        },
        "outputId": "105bed4d-f49f-4ed4-e19e-2afd9e39f6ec"
      },
      "source": [
        "# Percentage of each value in the 'EDUCATION' column.\n",
        "(credit_card_df['EDUCATION'].value_counts()/credit_card_df.shape[0])*100"
      ],
      "execution_count": null,
      "outputs": [
        {
          "output_type": "execute_result",
          "data": {
            "text/plain": [
              "2    46.766667\n",
              "1    35.283333\n",
              "3    16.390000\n",
              "5     1.150000\n",
              "4     0.410000\n",
              "Name: EDUCATION, dtype: float64"
            ]
          },
          "metadata": {
            "tags": []
          },
          "execution_count": 8
        }
      ]
    },
    {
      "cell_type": "markdown",
      "metadata": {
        "id": "VnlJ8xZYWhhK",
        "colab_type": "text"
      },
      "source": [
        "**Q:** What percent of clients were university graduates?\n",
        "\n",
        "**A:** 46.76% are university graduates client"
      ]
    },
    {
      "cell_type": "markdown",
      "metadata": {
        "id": "glaDE9aQJ-0c",
        "colab_type": "text"
      },
      "source": [
        "Create a count plot for the `EDUCATION` column."
      ]
    },
    {
      "cell_type": "code",
      "metadata": {
        "id": "XBSKyKnRWmjG",
        "colab_type": "code",
        "colab": {
          "base_uri": "https://localhost:8080/",
          "height": 334
        },
        "outputId": "62a92ea6-41bf-4c13-ffc5-c180a0001167"
      },
      "source": [
        "# Count plot for the 'EDUCATION' column.\n",
        "plt.figure(figsize=(20,5))\n",
        "#ed_cp=credit_card_df[(credit_card_df['EDUCATION']==1)|(credit_card_df['EDUCATION']==2)|(credit_card_df['EDUCATION']==3)|(credit_card_df['EDUCATION']==4)|(credit_card_df['EDUCATION']==5)]\n",
        "sbn.countplot(x='EDUCATION',data=credit_card_df)\n",
        "plt.show()"
      ],
      "execution_count": null,
      "outputs": [
        {
          "output_type": "display_data",
          "data": {
            "image/png": "[encoded data removed]",
            "text/plain": [
              "<Figure size 1440x360 with 1 Axes>"
            ]
          },
          "metadata": {
            "tags": [],
            "needs_background": "light"
          }
        }
      ]
    },
    {
      "cell_type": "markdown",
      "metadata": {
        "id": "52awGQaUZhia",
        "colab_type": "text"
      },
      "source": [
        "---"
      ]
    },
    {
      "cell_type": "markdown",
      "metadata": {
        "id": "h9Evm0hFFEsk",
        "colab_type": "text"
      },
      "source": [
        "#### 4.3 The `info()` Function\n",
        "\n",
        "You may require to check the data-type of every column. So, instead of applying the `dtype` keyword one-by-one for each column, you can use the `info()` function to check the data-types of all the columns at once. It also tells you the total number of rows and columns in a DataFrame. Here's the syntax:\n",
        "\n",
        "**Syntax:** `data_frame.info()`\n",
        "\n",
        "where `data_frame` is a variable storing some Pandas DataFrame.\n",
        "\n",
        "**Note:** This function is applicable only to Pandas DataFrame."
      ]
    },
    {
      "cell_type": "code",
      "metadata": {
        "id": "JqTMqAOwFX03",
        "colab_type": "code",
        "colab": {
          "base_uri": "https://localhost:8080/",
          "height": 580
        },
        "outputId": "3bd49a8b-cde6-43bd-c355-016045ce84a4"
      },
      "source": [
        "# Check the data-types of all the columns using the 'info()' function.\n",
        "credit_card_df.info()"
      ],
      "execution_count": null,
      "outputs": [
        {
          "output_type": "stream",
          "text": [
            "<class 'pandas.core.frame.DataFrame'>\n",
            "RangeIndex: 30000 entries, 0 to 29999\n",
            "Data columns (total 25 columns):\n",
            " #   Column                      Non-Null Count  Dtype  \n",
            "---  ------                      --------------  -----  \n",
            " 0   ID                          30000 non-null  int64  \n",
            " 1   LIMIT_BAL                   30000 non-null  float64\n",
            " 2   SEX                         30000 non-null  int64  \n",
            " 3   EDUCATION                   30000 non-null  int64  \n",
            " 4   MARRIAGE                    30000 non-null  int64  \n",
            " 5   AGE                         30000 non-null  int64  \n",
            " 6   PAY_0                       30000 non-null  int64  \n",
            " 7   PAY_2                       30000 non-null  int64  \n",
            " 8   PAY_3                       30000 non-null  int64  \n",
            " 9   PAY_4                       30000 non-null  int64  \n",
            " 10  PAY_5                       30000 non-null  int64  \n",
            " 11  PAY_6                       30000 non-null  int64  \n",
            " 12  BILL_AMT1                   30000 non-null  float64\n",
            " 13  BILL_AMT2                   30000 non-null  float64\n",
            " 14  BILL_AMT3                   30000 non-null  float64\n",
            " 15  BILL_AMT4                   30000 non-null  float64\n",
            " 16  BILL_AMT5                   30000 non-null  float64\n",
            " 17  BILL_AMT6                   30000 non-null  float64\n",
            " 18  PAY_AMT1                    30000 non-null  float64\n",
            " 19  PAY_AMT2                    30000 non-null  float64\n",
            " 20  PAY_AMT3                    30000 non-null  float64\n",
            " 21  PAY_AMT4                    30000 non-null  float64\n",
            " 22  PAY_AMT5                    30000 non-null  float64\n",
            " 23  PAY_AMT6                    30000 non-null  float64\n",
            " 24  default.payment.next.month  30000 non-null  int64  \n",
            "dtypes: float64(13), int64(12)\n",
            "memory usage: 5.7 MB\n"
          ],
          "name": "stdout"
        }
      ]
    },
    {
      "cell_type": "markdown",
      "metadata": {
        "id": "TEz4InrYFhaZ",
        "colab_type": "text"
      },
      "source": [
        "As you can see, the data-types of all the columns are now available to you at once."
      ]
    },
    {
      "cell_type": "markdown",
      "metadata": {
        "id": "_goNOFwUY0R2",
        "colab_type": "text"
      },
      "source": [
        "---"
      ]
    },
    {
      "cell_type": "markdown",
      "metadata": {
        "id": "XrJJiH44ZuNE",
        "colab_type": "text"
      },
      "source": [
        "#### 4.4 Gender of Credit Card Holders\n",
        "\n",
        "The `SEX` column must have the following two types of values in the dataset:\n",
        "\n",
        "- `1` denotes the credit card holder is a man.\n",
        "\n",
        "- `2` denotes the credit card holder is a woman.\n",
        "\n",
        "If there is any other value in the `SEX` column, then remove the row containing that value.\n",
        "\n",
        "Calculate the number of male and female clients."
      ]
    },
    {
      "cell_type": "code",
      "metadata": {
        "id": "-ljjfNGwd0im",
        "colab_type": "code",
        "colab": {
          "base_uri": "https://localhost:8080/",
          "height": 70
        },
        "outputId": "010e9722-1b5b-437a-eca4-cb5fe931fdbc"
      },
      "source": [
        "# Counts of male and female clients.\n",
        "credit_card_df['SEX'].value_counts()"
      ],
      "execution_count": null,
      "outputs": [
        {
          "output_type": "execute_result",
          "data": {
            "text/plain": [
              "2    18112\n",
              "1    11888\n",
              "Name: SEX, dtype: int64"
            ]
          },
          "metadata": {
            "tags": []
          },
          "execution_count": 11
        }
      ]
    },
    {
      "cell_type": "code",
      "metadata": {
        "id": "wTS7iQjTXQjJ",
        "colab_type": "code",
        "colab": {}
      },
      "source": [
        "# Drop the rows containing the unwanted values. Ignore this code cell if there is/are no null or unwanted value(s)."
      ],
      "execution_count": null,
      "outputs": []
    },
    {
      "cell_type": "markdown",
      "metadata": {
        "id": "2jGjziu9KpI0",
        "colab_type": "text"
      },
      "source": [
        "Calculate the percentage of male and female clients."
      ]
    },
    {
      "cell_type": "code",
      "metadata": {
        "id": "zQP1sMZxVYhc",
        "colab_type": "code",
        "colab": {
          "base_uri": "https://localhost:8080/",
          "height": 70
        },
        "outputId": "e099eaac-3b65-41bf-a6ff-d3f65bd78248"
      },
      "source": [
        "# Percentage of male and female clients.\n",
        "(credit_card_df['SEX'].value_counts()/credit_card_df.shape[0])*100"
      ],
      "execution_count": null,
      "outputs": [
        {
          "output_type": "execute_result",
          "data": {
            "text/plain": [
              "2    60.373333\n",
              "1    39.626667\n",
              "Name: SEX, dtype: float64"
            ]
          },
          "metadata": {
            "tags": []
          },
          "execution_count": 13
        }
      ]
    },
    {
      "cell_type": "markdown",
      "metadata": {
        "id": "fYnNN_I3rJC0",
        "colab_type": "text"
      },
      "source": [
        "**Q:** What  of the credit card holders were males and females?\n",
        "\n",
        "**A:** 60.37% credit card holders were female while 39.62% credit card holders were male"
      ]
    },
    {
      "cell_type": "markdown",
      "metadata": {
        "id": "IGJIFah8KuGU",
        "colab_type": "text"
      },
      "source": [
        "Create a count plot for the gender of clients.\n"
      ]
    },
    {
      "cell_type": "code",
      "metadata": {
        "id": "nRBzytfUWJJC",
        "colab_type": "code",
        "colab": {
          "base_uri": "https://localhost:8080/",
          "height": 334
        },
        "outputId": "ff449dcc-b475-4a49-dba9-a31f63ec6933"
      },
      "source": [
        "# Count plot for the gender of clients\n",
        "plt.figure(figsize=(20,5))\n",
        "sbn.countplot(x='SEX',data=credit_card_df)\n",
        "plt.show()"
      ],
      "execution_count": null,
      "outputs": [
        {
          "output_type": "display_data",
          "data": {
            "image/png": "[encoded data removed]",
            "text/plain": [
              "<Figure size 1440x360 with 1 Axes>"
            ]
          },
          "metadata": {
            "tags": [],
            "needs_background": "light"
          }
        }
      ]
    },
    {
      "cell_type": "markdown",
      "metadata": {
        "id": "7Js_LyQeW7av",
        "colab_type": "text"
      },
      "source": [
        "---"
      ]
    },
    {
      "cell_type": "markdown",
      "metadata": {
        "id": "d-uGntI1W8Mc",
        "colab_type": "text"
      },
      "source": [
        "#### 4.5 Marital Status of Clients\n",
        "\n",
        "The `MARRIAGE` column the contain the following three different types of values:\n",
        "\n",
        " - `1` denotes that a client is married\n",
        " \n",
        " - `2` denotes that a client is single\n",
        " \n",
        " - `3` denotes all other possible marital statuses such as divorced, widowed etc.\n",
        "\n",
        "If there are any other values, then they should be replaced with `3` because it covers all the other possible cases of marital status of a client.\n",
        "\n",
        "Calculate the counts of each value in the `MARRIAGE` column."
      ]
    },
    {
      "cell_type": "code",
      "metadata": {
        "id": "X-n0yzoLXArk",
        "colab_type": "code",
        "colab": {
          "base_uri": "https://localhost:8080/",
          "height": 105
        },
        "outputId": "4be551cf-61a5-4149-adcc-0a0c513da427"
      },
      "source": [
        "# Counts of each value in the 'MARRIAGE' column.\n",
        "credit_card_df['MARRIAGE'].value_counts()"
      ],
      "execution_count": null,
      "outputs": [
        {
          "output_type": "execute_result",
          "data": {
            "text/plain": [
              "2    15964\n",
              "1    13659\n",
              "3      323\n",
              "0       54\n",
              "Name: MARRIAGE, dtype: int64"
            ]
          },
          "metadata": {
            "tags": []
          },
          "execution_count": 15
        }
      ]
    },
    {
      "cell_type": "markdown",
      "metadata": {
        "id": "xOq_uYEcM43G",
        "colab_type": "text"
      },
      "source": [
        "**Q:** What value(s) is/are contained in the `MARRIAGE` column apart from the values `1, 2` and `3`? What are their counts?\n",
        "\n",
        "**A:** Yes, there is value apart from values 1,2 and 3. There is 0 value and its counts is 54\n",
        "\n",
        " "
      ]
    },
    {
      "cell_type": "code",
      "metadata": {
        "id": "v-OzFIYCtcKf",
        "colab_type": "code",
        "colab": {
          "base_uri": "https://localhost:8080/",
          "height": 87
        },
        "outputId": "a8ac2904-e1a0-4373-9010-0216f85f206e"
      },
      "source": [
        "# Replace the unwanted values in the 'MARRIAGE' column. Ignore if there are none.\n",
        "row_index=credit_card_df[(credit_card_df['MARRIAGE']==0)].index\n",
        "credit_card_df.loc[row_index,'MARRIAGE']=3\n",
        "credit_card_df['MARRIAGE'].value_counts()"
      ],
      "execution_count": null,
      "outputs": [
        {
          "output_type": "execute_result",
          "data": {
            "text/plain": [
              "2    15964\n",
              "1    13659\n",
              "3      377\n",
              "Name: MARRIAGE, dtype: int64"
            ]
          },
          "metadata": {
            "tags": []
          },
          "execution_count": 16
        }
      ]
    },
    {
      "cell_type": "markdown",
      "metadata": {
        "id": "x5K2b9slLw4d",
        "colab_type": "text"
      },
      "source": [
        "Calculate the percentage of the values in the `MARRIAGE` column."
      ]
    },
    {
      "cell_type": "code",
      "metadata": {
        "id": "LrtddCErXOdf",
        "colab_type": "code",
        "colab": {
          "base_uri": "https://localhost:8080/",
          "height": 87
        },
        "outputId": "c840e4bd-7127-4850-85a9-8a21d2e17563"
      },
      "source": [
        "# Percentage of the values in the 'MARRIAGE' column.\n",
        "(credit_card_df['MARRIAGE'].value_counts()/credit_card_df.shape[0])*100"
      ],
      "execution_count": null,
      "outputs": [
        {
          "output_type": "execute_result",
          "data": {
            "text/plain": [
              "2    53.213333\n",
              "1    45.530000\n",
              "3     1.256667\n",
              "Name: MARRIAGE, dtype: float64"
            ]
          },
          "metadata": {
            "tags": []
          },
          "execution_count": 17
        }
      ]
    },
    {
      "cell_type": "markdown",
      "metadata": {
        "id": "WBcegrFxXTwX",
        "colab_type": "text"
      },
      "source": [
        "**Q:** What  of clients were married?\n",
        "\n",
        "**A:** 45.53% of clients were married"
      ]
    },
    {
      "cell_type": "markdown",
      "metadata": {
        "id": "oI7WUXNaM2zP",
        "colab_type": "text"
      },
      "source": [
        "Create a count plot for the `MARRIAGE` column."
      ]
    },
    {
      "cell_type": "code",
      "metadata": {
        "id": "gGV27gv-XgqW",
        "colab_type": "code",
        "colab": {
          "base_uri": "https://localhost:8080/",
          "height": 279
        },
        "outputId": "556f327e-8073-4ecd-8642-8e2d3a5706b7"
      },
      "source": [
        "# Count plot for the 'MARRIAGE' column.\n",
        "plt.figure(figsize=(16,4))\n",
        "#ma_cp=credit_card_df[(credit_card_df['MARRIAGE']==1)|(credit_card_df['MARRIAGE']==2)|(credit_card_df['MARRIAGE']==3)]\n",
        "sbn.countplot(x='MARRIAGE',data=credit_card_df)\n",
        "plt.show()\n"
      ],
      "execution_count": null,
      "outputs": [
        {
          "output_type": "display_data",
          "data": {
            "image/png": "[encoded data removed]",
            "text/plain": [
              "<Figure size 1152x288 with 1 Axes>"
            ]
          },
          "metadata": {
            "tags": [],
            "needs_background": "light"
          }
        }
      ]
    },
    {
      "cell_type": "markdown",
      "metadata": {
        "id": "ScpyyHo0Wlrm",
        "colab_type": "text"
      },
      "source": [
        "---"
      ]
    },
    {
      "cell_type": "markdown",
      "metadata": {
        "id": "PtrG6EM4buG1",
        "colab_type": "text"
      },
      "source": [
        "#### 4.6 Repayment Status Of Clients\n",
        "\n",
        "The `PAY_0` to `PAY_6` columns have the following types of values:\n",
        "\n",
        "- `-1` denotes that the payment is not due\n",
        "\n",
        "- `1` denotes that the payment is delayed by one month\n",
        "\n",
        "- `2` denotes that the payment is delayed by two months\n",
        "\n",
        "  $\\dots$\n",
        "\n",
        "- `8` denotes that the payment is delayed by eight months \n",
        "\n",
        "- `9` denotes that the payment is delayed by nine months and above\n",
        "\n",
        "You need to replace all the negative values in the `PAY_0` to `PAY_6` columns with `0` where `0` denotes all the payments made duly.\n",
        "\n",
        "Calculate counts for the repayment status in September 2005."
      ]
    },
    {
      "cell_type": "code",
      "metadata": {
        "id": "WW3Eq8x5CLSm",
        "colab_type": "code",
        "colab": {
          "base_uri": "https://localhost:8080/",
          "height": 228
        },
        "outputId": "31ae5831-f3d0-4fe3-c9ac-6757b7f0b2a3"
      },
      "source": [
        "# Counts for the repayment status in September 2005.\n",
        "credit_card_df['PAY_0'].value_counts()"
      ],
      "execution_count": null,
      "outputs": [
        {
          "output_type": "execute_result",
          "data": {
            "text/plain": [
              " 0    14737\n",
              "-1     5686\n",
              " 1     3688\n",
              "-2     2759\n",
              " 2     2667\n",
              " 3      322\n",
              " 4       76\n",
              " 5       26\n",
              " 8       19\n",
              " 6       11\n",
              " 7        9\n",
              "Name: PAY_0, dtype: int64"
            ]
          },
          "metadata": {
            "tags": []
          },
          "execution_count": 19
        }
      ]
    },
    {
      "cell_type": "code",
      "metadata": {
        "id": "Rg6mBmyNB9ow",
        "colab_type": "code",
        "colab": {
          "base_uri": "https://localhost:8080/",
          "height": 193
        },
        "outputId": "03c7d642-173b-446f-d75e-95b8687fb020"
      },
      "source": [
        "# Replace the negative values with 0. Ignore if there are none.\n",
        "neg_row=credit_card_df[(credit_card_df['PAY_0']==-1)|(credit_card_df['PAY_0']==-2)].index\n",
        "credit_card_df.loc[neg_row,'PAY_0']=0\n",
        "credit_card_df['PAY_0'].value_counts()"
      ],
      "execution_count": null,
      "outputs": [
        {
          "output_type": "execute_result",
          "data": {
            "text/plain": [
              "0    23182\n",
              "1     3688\n",
              "2     2667\n",
              "3      322\n",
              "4       76\n",
              "5       26\n",
              "8       19\n",
              "6       11\n",
              "7        9\n",
              "Name: PAY_0, dtype: int64"
            ]
          },
          "metadata": {
            "tags": []
          },
          "execution_count": 20
        }
      ]
    },
    {
      "cell_type": "markdown",
      "metadata": {
        "id": "eIW3r0BxMwAt",
        "colab_type": "text"
      },
      "source": [
        "Calculate the percentages for the repayment status in September 2005."
      ]
    },
    {
      "cell_type": "code",
      "metadata": {
        "id": "aYQovf-CcCV9",
        "colab_type": "code",
        "colab": {
          "base_uri": "https://localhost:8080/",
          "height": 193
        },
        "outputId": "61a6e5e3-f012-4124-f1d9-ce3770c353d9"
      },
      "source": [
        "# Percentages for the repayment status in September 2005.\n",
        "(credit_card_df['PAY_0'].value_counts()/credit_card_df.shape[0])*100"
      ],
      "execution_count": null,
      "outputs": [
        {
          "output_type": "execute_result",
          "data": {
            "text/plain": [
              "0    77.273333\n",
              "1    12.293333\n",
              "2     8.890000\n",
              "3     1.073333\n",
              "4     0.253333\n",
              "5     0.086667\n",
              "8     0.063333\n",
              "6     0.036667\n",
              "7     0.030000\n",
              "Name: PAY_0, dtype: float64"
            ]
          },
          "metadata": {
            "tags": []
          },
          "execution_count": 21
        }
      ]
    },
    {
      "cell_type": "markdown",
      "metadata": {
        "id": "GTTRyp3gNHSm",
        "colab_type": "text"
      },
      "source": [
        "Create a count plot for the repayment status in September 2005."
      ]
    },
    {
      "cell_type": "code",
      "metadata": {
        "id": "PvKDYqjydlm8",
        "colab_type": "code",
        "colab": {
          "base_uri": "https://localhost:8080/",
          "height": 335
        },
        "outputId": "e1e226e9-97a0-45d6-ac1b-a2577557612d"
      },
      "source": [
        "# Count plot for the repayment status in September 2005.\n",
        "#data_cp=credit_card_df.loc[(credit_card_df['PAY_0']!=-1)|(credit_card_df['PAY_0']!=-2)]\n",
        "plt.figure(figsize=(20,5))\n",
        "sbn.countplot(x='PAY_0',data=credit_card_df)\n",
        "plt.show()"
      ],
      "execution_count": null,
      "outputs": [
        {
          "output_type": "display_data",
          "data": {
            "image/png": "[encoded data removed]",
            "text/plain": [
              "<Figure size 1440x360 with 1 Axes>"
            ]
          },
          "metadata": {
            "tags": [],
            "needs_background": "light"
          }
        }
      ]
    },
    {
      "cell_type": "markdown",
      "metadata": {
        "id": "1JWTAwJiNK67",
        "colab_type": "text"
      },
      "source": [
        "Calculate counts for the repayment status in August 2005."
      ]
    },
    {
      "cell_type": "code",
      "metadata": {
        "id": "AnFM524ODbg_",
        "colab_type": "code",
        "colab": {
          "base_uri": "https://localhost:8080/",
          "height": 228
        },
        "outputId": "b2efa8c4-f7bf-4950-e4fb-65840414ded8"
      },
      "source": [
        "# Counts for the repayment status in August 2005.\n",
        "credit_card_df['PAY_2'].value_counts()"
      ],
      "execution_count": null,
      "outputs": [
        {
          "output_type": "execute_result",
          "data": {
            "text/plain": [
              " 0    15730\n",
              "-1     6050\n",
              " 2     3927\n",
              "-2     3782\n",
              " 3      326\n",
              " 4       99\n",
              " 1       28\n",
              " 5       25\n",
              " 7       20\n",
              " 6       12\n",
              " 8        1\n",
              "Name: PAY_2, dtype: int64"
            ]
          },
          "metadata": {
            "tags": []
          },
          "execution_count": 23
        }
      ]
    },
    {
      "cell_type": "code",
      "metadata": {
        "id": "9vaz3qWnDs5f",
        "colab_type": "code",
        "colab": {
          "base_uri": "https://localhost:8080/",
          "height": 193
        },
        "outputId": "13d127cc-bfdc-41d2-c994-d04de28dcce4"
      },
      "source": [
        "# Replace the negative values with 0. Ignore if there are none.\n",
        "neg_row1=credit_card_df[(credit_card_df['PAY_2']==-1)|(credit_card_df['PAY_2']==-2)].index\n",
        "credit_card_df.loc[neg_row1,'PAY_2']=0\n",
        "credit_card_df['PAY_2'].value_counts()"
      ],
      "execution_count": null,
      "outputs": [
        {
          "output_type": "execute_result",
          "data": {
            "text/plain": [
              "0    25562\n",
              "2     3927\n",
              "3      326\n",
              "4       99\n",
              "1       28\n",
              "5       25\n",
              "7       20\n",
              "6       12\n",
              "8        1\n",
              "Name: PAY_2, dtype: int64"
            ]
          },
          "metadata": {
            "tags": []
          },
          "execution_count": 24
        }
      ]
    },
    {
      "cell_type": "markdown",
      "metadata": {
        "id": "waYOkDfRNO6q",
        "colab_type": "text"
      },
      "source": [
        "Calculate the percentages for the repayment status in August 2005."
      ]
    },
    {
      "cell_type": "code",
      "metadata": {
        "id": "MVQlyaxAd0IO",
        "colab_type": "code",
        "colab": {
          "base_uri": "https://localhost:8080/",
          "height": 193
        },
        "outputId": "60629597-ca32-4628-edba-5082efac2c6d"
      },
      "source": [
        "# Percentages for the repayment status in August 2005.\n",
        "(credit_card_df['PAY_2'].value_counts()/credit_card_df.shape[0])*100"
      ],
      "execution_count": null,
      "outputs": [
        {
          "output_type": "execute_result",
          "data": {
            "text/plain": [
              "0    85.206667\n",
              "2    13.090000\n",
              "3     1.086667\n",
              "4     0.330000\n",
              "1     0.093333\n",
              "5     0.083333\n",
              "7     0.066667\n",
              "6     0.040000\n",
              "8     0.003333\n",
              "Name: PAY_2, dtype: float64"
            ]
          },
          "metadata": {
            "tags": []
          },
          "execution_count": 25
        }
      ]
    },
    {
      "cell_type": "markdown",
      "metadata": {
        "id": "zycFX6KUNcqV",
        "colab_type": "text"
      },
      "source": [
        "Create a count plot for the repayment status in August 2005."
      ]
    },
    {
      "cell_type": "code",
      "metadata": {
        "id": "zeWIfaBVd6BQ",
        "colab_type": "code",
        "colab": {
          "base_uri": "https://localhost:8080/",
          "height": 335
        },
        "outputId": "aaf42d83-5dc2-4faf-97e6-ae25d603d67f"
      },
      "source": [
        "# Count plot for the repayment status in August 2005.\n",
        "\n",
        "plt.figure(figsize=(20,5))\n",
        "sbn.countplot(x='PAY_2',data=credit_card_df)\n",
        "plt.show()"
      ],
      "execution_count": null,
      "outputs": [
        {
          "output_type": "display_data",
          "data": {
            "image/png": "[encoded data removed]",
            "text/plain": [
              "<Figure size 1440x360 with 1 Axes>"
            ]
          },
          "metadata": {
            "tags": [],
            "needs_background": "light"
          }
        }
      ]
    },
    {
      "cell_type": "markdown",
      "metadata": {
        "id": "5ydc97v9Ngh5",
        "colab_type": "text"
      },
      "source": [
        "Calculate counts for the repayment status in July 2005."
      ]
    },
    {
      "cell_type": "code",
      "metadata": {
        "id": "y1zbfIYPEnYp",
        "colab_type": "code",
        "colab": {
          "base_uri": "https://localhost:8080/",
          "height": 228
        },
        "outputId": "881dcd52-48bd-4194-a30d-8314bfab884a"
      },
      "source": [
        "# Counts for the repayment status in July 2005.\n",
        "credit_card_df['PAY_3'].value_counts()"
      ],
      "execution_count": null,
      "outputs": [
        {
          "output_type": "execute_result",
          "data": {
            "text/plain": [
              " 0    15764\n",
              "-1     5938\n",
              "-2     4085\n",
              " 2     3819\n",
              " 3      240\n",
              " 4       76\n",
              " 7       27\n",
              " 6       23\n",
              " 5       21\n",
              " 1        4\n",
              " 8        3\n",
              "Name: PAY_3, dtype: int64"
            ]
          },
          "metadata": {
            "tags": []
          },
          "execution_count": 27
        }
      ]
    },
    {
      "cell_type": "code",
      "metadata": {
        "id": "nyEnByYAEsZ8",
        "colab_type": "code",
        "colab": {
          "base_uri": "https://localhost:8080/",
          "height": 193
        },
        "outputId": "04a313a4-4a21-4256-c51b-8755035ee2d5"
      },
      "source": [
        "# Replace the negative values with 0. Ignore if there are none.\n",
        "neg_row2=credit_card_df[(credit_card_df['PAY_3']==-1)|(credit_card_df['PAY_3']==-2)].index\n",
        "credit_card_df.loc[neg_row2,'PAY_3']=0\n",
        "credit_card_df['PAY_3'].value_counts()"
      ],
      "execution_count": null,
      "outputs": [
        {
          "output_type": "execute_result",
          "data": {
            "text/plain": [
              "0    25787\n",
              "2     3819\n",
              "3      240\n",
              "4       76\n",
              "7       27\n",
              "6       23\n",
              "5       21\n",
              "1        4\n",
              "8        3\n",
              "Name: PAY_3, dtype: int64"
            ]
          },
          "metadata": {
            "tags": []
          },
          "execution_count": 28
        }
      ]
    },
    {
      "cell_type": "markdown",
      "metadata": {
        "id": "zu8HvlV-NlcD",
        "colab_type": "text"
      },
      "source": [
        "Calculate the percentages for the repayment status in July 2005."
      ]
    },
    {
      "cell_type": "code",
      "metadata": {
        "id": "NmYog7EBeFFI",
        "colab_type": "code",
        "colab": {
          "base_uri": "https://localhost:8080/",
          "height": 193
        },
        "outputId": "9b3b5db8-d716-4dba-ca9b-22a5f6040bc0"
      },
      "source": [
        "# Percentages for the repayment status in July 2005.\n",
        "(credit_card_df['PAY_3'].value_counts()/credit_card_df.shape[0])*100"
      ],
      "execution_count": null,
      "outputs": [
        {
          "output_type": "execute_result",
          "data": {
            "text/plain": [
              "0    85.956667\n",
              "2    12.730000\n",
              "3     0.800000\n",
              "4     0.253333\n",
              "7     0.090000\n",
              "6     0.076667\n",
              "5     0.070000\n",
              "1     0.013333\n",
              "8     0.010000\n",
              "Name: PAY_3, dtype: float64"
            ]
          },
          "metadata": {
            "tags": []
          },
          "execution_count": 29
        }
      ]
    },
    {
      "cell_type": "markdown",
      "metadata": {
        "id": "kTF1rmBfNscD",
        "colab_type": "text"
      },
      "source": [
        "Create a count plot for the repayment status in August 2005."
      ]
    },
    {
      "cell_type": "code",
      "metadata": {
        "id": "C5gxMuueeBSd",
        "colab_type": "code",
        "colab": {
          "base_uri": "https://localhost:8080/",
          "height": 335
        },
        "outputId": "1e7226d5-2a40-4c09-dc81-a95c99722fd4"
      },
      "source": [
        "# Count plot for the repayment status in July 2005.\n",
        "plt.figure(figsize=(20,5))\n",
        "sbn.countplot(x='PAY_3',data=credit_card_df)\n",
        "plt.show()"
      ],
      "execution_count": null,
      "outputs": [
        {
          "output_type": "display_data",
          "data": {
            "image/png": "[encoded data removed]",
            "text/plain": [
              "<Figure size 1440x360 with 1 Axes>"
            ]
          },
          "metadata": {
            "tags": [],
            "needs_background": "light"
          }
        }
      ]
    },
    {
      "cell_type": "markdown",
      "metadata": {
        "id": "jv9U84BlNwBQ",
        "colab_type": "text"
      },
      "source": [
        "Calculate counts for the repayment status in June 2005."
      ]
    },
    {
      "cell_type": "code",
      "metadata": {
        "id": "qWmLCIryHn1p",
        "colab_type": "code",
        "colab": {
          "base_uri": "https://localhost:8080/",
          "height": 228
        },
        "outputId": "3e68b0e4-856c-4c08-e753-4f5860b011e5"
      },
      "source": [
        "# Counts for the repayment status in June 2005.\n",
        "credit_card_df['PAY_4'].value_counts()"
      ],
      "execution_count": null,
      "outputs": [
        {
          "output_type": "execute_result",
          "data": {
            "text/plain": [
              " 0    16455\n",
              "-1     5687\n",
              "-2     4348\n",
              " 2     3159\n",
              " 3      180\n",
              " 4       69\n",
              " 7       58\n",
              " 5       35\n",
              " 6        5\n",
              " 8        2\n",
              " 1        2\n",
              "Name: PAY_4, dtype: int64"
            ]
          },
          "metadata": {
            "tags": []
          },
          "execution_count": 31
        }
      ]
    },
    {
      "cell_type": "code",
      "metadata": {
        "id": "1UXBAn4gHzxB",
        "colab_type": "code",
        "colab": {
          "base_uri": "https://localhost:8080/",
          "height": 193
        },
        "outputId": "de25ae5c-8809-416b-cda7-13d50ddff0ab"
      },
      "source": [
        "# Replace the negative values with 0. Ignore if there are none.\n",
        "neg_row3=credit_card_df[(credit_card_df['PAY_4']==-1)|(credit_card_df['PAY_4']==-2)].index\n",
        "credit_card_df.loc[neg_row3,'PAY_4']=0\n",
        "credit_card_df['PAY_4'].value_counts()"
      ],
      "execution_count": null,
      "outputs": [
        {
          "output_type": "execute_result",
          "data": {
            "text/plain": [
              "0    26490\n",
              "2     3159\n",
              "3      180\n",
              "4       69\n",
              "7       58\n",
              "5       35\n",
              "6        5\n",
              "8        2\n",
              "1        2\n",
              "Name: PAY_4, dtype: int64"
            ]
          },
          "metadata": {
            "tags": []
          },
          "execution_count": 32
        }
      ]
    },
    {
      "cell_type": "markdown",
      "metadata": {
        "id": "49WP3OYuNz4H",
        "colab_type": "text"
      },
      "source": [
        "Calculate the percentages for the repayment status in June 2005."
      ]
    },
    {
      "cell_type": "code",
      "metadata": {
        "id": "UaiRQZvleWtl",
        "colab_type": "code",
        "colab": {
          "base_uri": "https://localhost:8080/",
          "height": 193
        },
        "outputId": "a0746fa5-f5fe-42fa-c7ea-a8aea4edb05d"
      },
      "source": [
        "# Percentages for the repayment status in June 2005.\n",
        "(credit_card_df['PAY_4'].value_counts()/credit_card_df.shape[0])*100"
      ],
      "execution_count": null,
      "outputs": [
        {
          "output_type": "execute_result",
          "data": {
            "text/plain": [
              "0    88.300000\n",
              "2    10.530000\n",
              "3     0.600000\n",
              "4     0.230000\n",
              "7     0.193333\n",
              "5     0.116667\n",
              "6     0.016667\n",
              "8     0.006667\n",
              "1     0.006667\n",
              "Name: PAY_4, dtype: float64"
            ]
          },
          "metadata": {
            "tags": []
          },
          "execution_count": 33
        }
      ]
    },
    {
      "cell_type": "markdown",
      "metadata": {
        "id": "6xYYVz-xN5Qu",
        "colab_type": "text"
      },
      "source": [
        "Create a count plot for the repayment status in June 2005."
      ]
    },
    {
      "cell_type": "code",
      "metadata": {
        "id": "EK8NnT3yemA8",
        "colab_type": "code",
        "colab": {
          "base_uri": "https://localhost:8080/",
          "height": 335
        },
        "outputId": "1f08f491-ec37-49ab-8f54-c36725978d3e"
      },
      "source": [
        "# Count plot for the repayment status in June 2005.\n",
        "plt.figure(figsize=(20,5))\n",
        "sbn.countplot(x='PAY_4',data=credit_card_df)\n",
        "plt.show()"
      ],
      "execution_count": null,
      "outputs": [
        {
          "output_type": "display_data",
          "data": {
            "image/png": "[encoded data removed]",
            "text/plain": [
              "<Figure size 1440x360 with 1 Axes>"
            ]
          },
          "metadata": {
            "tags": [],
            "needs_background": "light"
          }
        }
      ]
    },
    {
      "cell_type": "markdown",
      "metadata": {
        "id": "_Avs21KyN-yx",
        "colab_type": "text"
      },
      "source": [
        "Calculate counts for the repayment status in May 2005."
      ]
    },
    {
      "cell_type": "code",
      "metadata": {
        "id": "re-4LrQsMK3H",
        "colab_type": "code",
        "colab": {
          "base_uri": "https://localhost:8080/",
          "height": 211
        },
        "outputId": "a8ae529b-2b5d-4672-d579-407d83640621"
      },
      "source": [
        "# Counts for the repayment status in May 2005.\n",
        "credit_card_df['PAY_5'].value_counts()"
      ],
      "execution_count": null,
      "outputs": [
        {
          "output_type": "execute_result",
          "data": {
            "text/plain": [
              " 0    16947\n",
              "-1     5539\n",
              "-2     4546\n",
              " 2     2626\n",
              " 3      178\n",
              " 4       84\n",
              " 7       58\n",
              " 5       17\n",
              " 6        4\n",
              " 8        1\n",
              "Name: PAY_5, dtype: int64"
            ]
          },
          "metadata": {
            "tags": []
          },
          "execution_count": 35
        }
      ]
    },
    {
      "cell_type": "code",
      "metadata": {
        "id": "RehiovzxMWVj",
        "colab_type": "code",
        "colab": {
          "base_uri": "https://localhost:8080/",
          "height": 175
        },
        "outputId": "35d4ae7e-1509-402c-8f3f-d212dd437bf8"
      },
      "source": [
        "# Replace the negative values with 0. Ignore if there are none.\n",
        "neg_row4=credit_card_df[(credit_card_df['PAY_5']==-1)|(credit_card_df['PAY_5']==-2)].index\n",
        "credit_card_df.loc[neg_row4,'PAY_5']=0\n",
        "credit_card_df['PAY_5'].value_counts()"
      ],
      "execution_count": null,
      "outputs": [
        {
          "output_type": "execute_result",
          "data": {
            "text/plain": [
              "0    27032\n",
              "2     2626\n",
              "3      178\n",
              "4       84\n",
              "7       58\n",
              "5       17\n",
              "6        4\n",
              "8        1\n",
              "Name: PAY_5, dtype: int64"
            ]
          },
          "metadata": {
            "tags": []
          },
          "execution_count": 36
        }
      ]
    },
    {
      "cell_type": "markdown",
      "metadata": {
        "id": "Gh6kp43fOD-6",
        "colab_type": "text"
      },
      "source": [
        "Calculate the percentages for the repayment status in May 2005."
      ]
    },
    {
      "cell_type": "code",
      "metadata": {
        "id": "XbYCwge4ed4c",
        "colab_type": "code",
        "colab": {
          "base_uri": "https://localhost:8080/",
          "height": 175
        },
        "outputId": "ae814de2-d10a-4fbd-b6d0-c007918b4f2f"
      },
      "source": [
        "# Percentages for the repayment status in May 2005.\n",
        "(credit_card_df['PAY_5'].value_counts()/credit_card_df.shape[0])*100"
      ],
      "execution_count": null,
      "outputs": [
        {
          "output_type": "execute_result",
          "data": {
            "text/plain": [
              "0    90.106667\n",
              "2     8.753333\n",
              "3     0.593333\n",
              "4     0.280000\n",
              "7     0.193333\n",
              "5     0.056667\n",
              "6     0.013333\n",
              "8     0.003333\n",
              "Name: PAY_5, dtype: float64"
            ]
          },
          "metadata": {
            "tags": []
          },
          "execution_count": 37
        }
      ]
    },
    {
      "cell_type": "markdown",
      "metadata": {
        "id": "saOKpr4mOZXk",
        "colab_type": "text"
      },
      "source": [
        "Create a count plot for the repayment status in May 2005."
      ]
    },
    {
      "cell_type": "code",
      "metadata": {
        "id": "1qB2Sv6Oepmt",
        "colab_type": "code",
        "colab": {
          "base_uri": "https://localhost:8080/",
          "height": 335
        },
        "outputId": "e6e4a26a-dff9-4638-853e-3eb90d74c357"
      },
      "source": [
        "# Count plot for the repayment status in May 2005.\n",
        "plt.figure(figsize=(20,5))\n",
        "sbn.countplot(x='PAY_5',data=credit_card_df)\n",
        "plt.show()"
      ],
      "execution_count": null,
      "outputs": [
        {
          "output_type": "display_data",
          "data": {
            "image/png": "[encoded data removed]",
            "text/plain": [
              "<Figure size 1440x360 with 1 Axes>"
            ]
          },
          "metadata": {
            "tags": [],
            "needs_background": "light"
          }
        }
      ]
    },
    {
      "cell_type": "markdown",
      "metadata": {
        "id": "hIxlBoa2Od9W",
        "colab_type": "text"
      },
      "source": [
        "Calculate counts for the repayment status in April 2005."
      ]
    },
    {
      "cell_type": "code",
      "metadata": {
        "id": "hKJSMKg_MoV6",
        "colab_type": "code",
        "colab": {
          "base_uri": "https://localhost:8080/",
          "height": 211
        },
        "outputId": "8cde5dae-9c1c-45bc-ee4d-f36ac3da24de"
      },
      "source": [
        "# Counts for the repayment status in April 2005.\n",
        "credit_card_df['PAY_6'].value_counts()"
      ],
      "execution_count": null,
      "outputs": [
        {
          "output_type": "execute_result",
          "data": {
            "text/plain": [
              " 0    16286\n",
              "-1     5740\n",
              "-2     4895\n",
              " 2     2766\n",
              " 3      184\n",
              " 4       49\n",
              " 7       46\n",
              " 6       19\n",
              " 5       13\n",
              " 8        2\n",
              "Name: PAY_6, dtype: int64"
            ]
          },
          "metadata": {
            "tags": []
          },
          "execution_count": 39
        }
      ]
    },
    {
      "cell_type": "code",
      "metadata": {
        "id": "KXIfw8OnMxHB",
        "colab_type": "code",
        "colab": {
          "base_uri": "https://localhost:8080/",
          "height": 175
        },
        "outputId": "020d3ce7-2f11-4a3f-f183-0b42385183f4"
      },
      "source": [
        "# Replace the negative values with 0. Ignore if there are none.\n",
        "neg_row6=credit_card_df[(credit_card_df['PAY_6']==-1)|(credit_card_df['PAY_6']==-2)].index\n",
        "credit_card_df.loc[neg_row6,'PAY_6']=0\n",
        "credit_card_df['PAY_6'].value_counts()"
      ],
      "execution_count": null,
      "outputs": [
        {
          "output_type": "execute_result",
          "data": {
            "text/plain": [
              "0    26921\n",
              "2     2766\n",
              "3      184\n",
              "4       49\n",
              "7       46\n",
              "6       19\n",
              "5       13\n",
              "8        2\n",
              "Name: PAY_6, dtype: int64"
            ]
          },
          "metadata": {
            "tags": []
          },
          "execution_count": 40
        }
      ]
    },
    {
      "cell_type": "markdown",
      "metadata": {
        "id": "lpWe_pimOkEZ",
        "colab_type": "text"
      },
      "source": [
        "Calculate the percentages for the repayment status in May 2005."
      ]
    },
    {
      "cell_type": "code",
      "metadata": {
        "id": "rrxPm_ZzeheL",
        "colab_type": "code",
        "colab": {
          "base_uri": "https://localhost:8080/",
          "height": 175
        },
        "outputId": "7834cea4-1164-402f-e8e7-5bfa971aa294"
      },
      "source": [
        "# Percentages for the repayment status in April 2005.\n",
        "(credit_card_df['PAY_6'].value_counts()/credit_card_df.shape[0])*100"
      ],
      "execution_count": null,
      "outputs": [
        {
          "output_type": "execute_result",
          "data": {
            "text/plain": [
              "0    89.736667\n",
              "2     9.220000\n",
              "3     0.613333\n",
              "4     0.163333\n",
              "7     0.153333\n",
              "6     0.063333\n",
              "5     0.043333\n",
              "8     0.006667\n",
              "Name: PAY_6, dtype: float64"
            ]
          },
          "metadata": {
            "tags": []
          },
          "execution_count": 41
        }
      ]
    },
    {
      "cell_type": "markdown",
      "metadata": {
        "id": "5TpYT-RsOp0l",
        "colab_type": "text"
      },
      "source": [
        "Create a count plot for the repayment status in April 2005."
      ]
    },
    {
      "cell_type": "code",
      "metadata": {
        "id": "0eGvLKljetVj",
        "colab_type": "code",
        "colab": {
          "base_uri": "https://localhost:8080/",
          "height": 335
        },
        "outputId": "e468213b-dfe7-4e08-bcae-51a22c91e84f"
      },
      "source": [
        "# Count plot for the repayment status in April 2005.\n",
        "plt.figure(figsize=(20,5))\n",
        "sbn.countplot(x='PAY_6',data=credit_card_df)\n",
        "plt.show()"
      ],
      "execution_count": null,
      "outputs": [
        {
          "output_type": "display_data",
          "data": {
            "image/png": "[encoded data removed]",
            "text/plain": [
              "<Figure size 1440x360 with 1 Axes>"
            ]
          },
          "metadata": {
            "tags": [],
            "needs_background": "light"
          }
        }
      ]
    },
    {
      "cell_type": "markdown",
      "metadata": {
        "id": "J_NE6AC_9rsq",
        "colab_type": "text"
      },
      "source": [
        "---"
      ]
    },
    {
      "cell_type": "markdown",
      "metadata": {
        "id": "aadvvk7i9sXQ",
        "colab_type": "text"
      },
      "source": [
        "#### 4.6 Default Payment Status\n",
        "\n",
        "The next column to be checked is `default.payment.next.month`. It denotes default payment status of a client in the following month (October) where\n",
        "\n",
        "- `1` means yes the client is a defaulter i.e., they failed to make the payment due in the following month.\n",
        "\n",
        "- `0` means no the client is NOT a defaulter i.e., they successfully made the payment due in the following month.\n",
        "\n",
        "Any row containing any other value for this column should be removed.\n",
        "\n",
        "Calculate counts for the default payment status in October 2005."
      ]
    },
    {
      "cell_type": "code",
      "metadata": {
        "id": "c-FOKCqImfxX",
        "colab_type": "code",
        "colab": {
          "base_uri": "https://localhost:8080/",
          "height": 70
        },
        "outputId": "623d69b4-fa4a-4364-822c-21d96a5e1231"
      },
      "source": [
        "# Counts for default payment status in October 2005.\n",
        "credit_card_df['default.payment.next.month'].value_counts()"
      ],
      "execution_count": null,
      "outputs": [
        {
          "output_type": "execute_result",
          "data": {
            "text/plain": [
              "0    23364\n",
              "1     6636\n",
              "Name: default.payment.next.month, dtype: int64"
            ]
          },
          "metadata": {
            "tags": []
          },
          "execution_count": 43
        }
      ]
    },
    {
      "cell_type": "code",
      "metadata": {
        "id": "0QOrWO6E-0Ks",
        "colab_type": "code",
        "colab": {}
      },
      "source": [
        "# Remove the rows containing any other value apart from 0 and 1. Ignore if there are none."
      ],
      "execution_count": null,
      "outputs": []
    },
    {
      "cell_type": "markdown",
      "metadata": {
        "id": "zPMvVJNYO18t",
        "colab_type": "text"
      },
      "source": [
        "Calculate the percentages for the default payment status in October 2005."
      ]
    },
    {
      "cell_type": "code",
      "metadata": {
        "id": "D_Ol76bTmlzb",
        "colab_type": "code",
        "colab": {
          "base_uri": "https://localhost:8080/",
          "height": 70
        },
        "outputId": "c96164f2-abcf-4745-96fd-6480e4d9a3b5"
      },
      "source": [
        "# Percentages for default payment status in October 2005.\n",
        "(credit_card_df['default.payment.next.month'].value_counts()/credit_card_df.shape[0])*100"
      ],
      "execution_count": null,
      "outputs": [
        {
          "output_type": "execute_result",
          "data": {
            "text/plain": [
              "0    77.88\n",
              "1    22.12\n",
              "Name: default.payment.next.month, dtype: float64"
            ]
          },
          "metadata": {
            "tags": []
          },
          "execution_count": 45
        }
      ]
    },
    {
      "cell_type": "markdown",
      "metadata": {
        "id": "OSiCGxLt86ce",
        "colab_type": "text"
      },
      "source": [
        "**Q:** What  of clients were defaulters?\n",
        "\n",
        "**A:** 22.12% of clients were defaulters"
      ]
    },
    {
      "cell_type": "markdown",
      "metadata": {
        "id": "fAp0v38vO-pN",
        "colab_type": "text"
      },
      "source": [
        "Create a count plot for the default payment status in October 2005."
      ]
    },
    {
      "cell_type": "code",
      "metadata": {
        "id": "KqxtuAQg84z6",
        "colab_type": "code",
        "colab": {
          "base_uri": "https://localhost:8080/",
          "height": 334
        },
        "outputId": "3a25ccef-3392-45ec-c32f-2a1f21379497"
      },
      "source": [
        "# Count plot for default payment status in October 2005.\n",
        "plt.figure(figsize=(20,5))\n",
        "sbn.countplot(x='default.payment.next.month',data=credit_card_df)\n",
        "plt.show()"
      ],
      "execution_count": null,
      "outputs": [
        {
          "output_type": "display_data",
          "data": {
            "image/png": "[encoded data removed]",
            "text/plain": [
              "<Figure size 1440x360 with 1 Axes>"
            ]
          },
          "metadata": {
            "tags": [],
            "needs_background": "light"
          }
        }
      ]
    },
    {
      "cell_type": "markdown",
      "metadata": {
        "id": "q4NRQwxmbmZZ",
        "colab_type": "text"
      },
      "source": [
        "---"
      ]
    },
    {
      "cell_type": "markdown",
      "metadata": {
        "id": "k6Ueda22tzi6",
        "colab_type": "text"
      },
      "source": [
        "### 5. Box Plots & Histograms\n",
        "\n",
        "The final task is to create box plots and histograms for the columns containing continuous numeric values. \n",
        "\n",
        "**Note:** All the histograms must have grids."
      ]
    },
    {
      "cell_type": "markdown",
      "metadata": {
        "id": "Di_JS4vb9OHp",
        "colab_type": "text"
      },
      "source": [
        "**Q:** Write down the name(s) of the column(s) containing the numeric values.\n",
        "\n",
        "**A:** Al  the columns of the data set has numeric values\n",
        "\n"
      ]
    },
    {
      "cell_type": "markdown",
      "metadata": {
        "id": "mOddYPtFt2ZR",
        "colab_type": "text"
      },
      "source": [
        "---"
      ]
    },
    {
      "cell_type": "markdown",
      "metadata": {
        "id": "2xf5dZt1uDuX",
        "colab_type": "text"
      },
      "source": [
        "#### 5.1 Bill Statement & Previous Payment Columns\n",
        "\n",
        "Create two Python lists:\n",
        "\n",
        "1. Name the first one as `bill_amt_cols` containing all the column headers for the bill statement columns. \n",
        "\n",
        "1. Name the second one as `pay_amt_cols` containing all the column headers for the previous payment columns. "
      ]
    },
    {
      "cell_type": "code",
      "metadata": {
        "id": "Jr16U854hHAB",
        "colab_type": "code",
        "colab": {
          "base_uri": "https://localhost:8080/",
          "height": 87
        },
        "outputId": "d1e9826f-ba30-4e56-b57c-bd8632aa6ee1"
      },
      "source": [
        "# 'bill_amt_cols' list containing all the column headers for the bill statements. \n",
        "bill_amt_cols=credit_card_df.columns[12:18]\n",
        "print(bill_amt_cols)\n",
        "# 'pay_amt_cols' list containing all the column headers for the previous payments.\n",
        "pay_amt_cols=credit_card_df.columns[18:24]\n",
        "print(pay_amt_cols)"
      ],
      "execution_count": null,
      "outputs": [
        {
          "output_type": "stream",
          "text": [
            "Index(['BILL_AMT1', 'BILL_AMT2', 'BILL_AMT3', 'BILL_AMT4', 'BILL_AMT5',\n",
            "       'BILL_AMT6'],\n",
            "      dtype='object')\n",
            "Index(['PAY_AMT1', 'PAY_AMT2', 'PAY_AMT3', 'PAY_AMT4', 'PAY_AMT5', 'PAY_AMT6'], dtype='object')\n"
          ],
          "name": "stdout"
        }
      ]
    },
    {
      "cell_type": "markdown",
      "metadata": {
        "id": "DH2aJ3w31Jcz",
        "colab_type": "text"
      },
      "source": [
        "Using the `for` loop, create box plots for all the bill statement columns."
      ]
    },
    {
      "cell_type": "code",
      "metadata": {
        "id": "7VQRc53dhYJL",
        "colab_type": "code",
        "colab": {
          "base_uri": "https://localhost:8080/",
          "height": 1000
        },
        "outputId": "22314883-ae5d-42e9-e189-e29bfdb6a0a4"
      },
      "source": [
        "# Boxplots for the bill statements.\n",
        "for i in bill_amt_cols:\n",
        "  plt.figure(figsize=(21,7))\n",
        "  plt.title(i)\n",
        "  sbn.boxplot(credit_card_df[i])\n",
        "  plt.grid()\n",
        "  plt.show()"
      ],
      "execution_count": null,
      "outputs": [
        {
          "output_type": "display_data",
          "data": {
            "image/png": "[encoded data removed]",
            "text/plain": [
              "<Figure size 1512x504 with 1 Axes>"
            ]
          },
          "metadata": {
            "tags": [],
            "needs_background": "light"
          }
        },
        {
          "output_type": "display_data",
          "data": {
            "image/png": "[encoded data removed]",
            "text/plain": [
              "<Figure size 1512x504 with 1 Axes>"
            ]
          },
          "metadata": {
            "tags": [],
            "needs_background": "light"
          }
        },
        {
          "output_type": "display_data",
          "data": {
            "image/png": "[encoded data removed]",
            "text/plain": [
              "<Figure size 1512x504 with 1 Axes>"
            ]
          },
          "metadata": {
            "tags": [],
            "needs_background": "light"
          }
        },
        {
          "output_type": "display_data",
          "data": {
            "image/png": "[encoded data removed]",
            "text/plain": [
              "<Figure size 1512x504 with 1 Axes>"
            ]
          },
          "metadata": {
            "tags": [],
            "needs_background": "light"
          }
        },
        {
          "output_type": "display_data",
          "data": {
            "image/png": "[encoded data removed]",
            "text/plain": [
              "<Figure size 1512x504 with 1 Axes>"
            ]
          },
          "metadata": {
            "tags": [],
            "needs_background": "light"
          }
        },
        {
          "output_type": "display_data",
          "data": {
            "image/png": "[encoded data removed]",
            "text/plain": [
              "<Figure size 1512x504 with 1 Axes>"
            ]
          },
          "metadata": {
            "tags": [],
            "needs_background": "light"
          }
        }
      ]
    },
    {
      "cell_type": "markdown",
      "metadata": {
        "id": "AxqHHkgn1FKB",
        "colab_type": "text"
      },
      "source": [
        "Using the `for` loop, create box plots for all the previous payment columns."
      ]
    },
    {
      "cell_type": "code",
      "metadata": {
        "id": "yyDFG1piQWmj",
        "colab_type": "code",
        "colab": {
          "base_uri": "https://localhost:8080/",
          "height": 1000
        },
        "outputId": "12a6a230-dee5-4ba9-9ae5-3871bc4a7b5b"
      },
      "source": [
        "# Boxplots for the previous payments.\n",
        "for i in pay_amt_cols:\n",
        "  plt.figure(figsize=(21,7))\n",
        "  plt.title(i)\n",
        "  sbn.boxplot(credit_card_df[i])\n",
        "  plt.grid()\n",
        "  plt.show()"
      ],
      "execution_count": null,
      "outputs": [
        {
          "output_type": "display_data",
          "data": {
            "image/png": "[encoded data removed]",
            "text/plain": [
              "<Figure size 1512x504 with 1 Axes>"
            ]
          },
          "metadata": {
            "tags": [],
            "needs_background": "light"
          }
        },
        {
          "output_type": "display_data",
          "data": {
            "image/png": "[encoded data removed]",
            "text/plain": [
              "<Figure size 1512x504 with 1 Axes>"
            ]
          },
          "metadata": {
            "tags": [],
            "needs_background": "light"
          }
        },
        {
          "output_type": "display_data",
          "data": {
            "image/png": "[encoded data removed]",
            "text/plain": [
              "<Figure size 1512x504 with 1 Axes>"
            ]
          },
          "metadata": {
            "tags": [],
            "needs_background": "light"
          }
        },
        {
          "output_type": "display_data",
          "data": {
            "image/png": "[encoded data removed]",
            "text/plain": [
              "<Figure size 1512x504 with 1 Axes>"
            ]
          },
          "metadata": {
            "tags": [],
            "needs_background": "light"
          }
        },
        {
          "output_type": "display_data",
          "data": {
            "image/png": "[encoded data removed]",
            "text/plain": [
              "<Figure size 1512x504 with 1 Axes>"
            ]
          },
          "metadata": {
            "tags": [],
            "needs_background": "light"
          }
        },
        {
          "output_type": "display_data",
          "data": {
            "image/png": "[encoded data removed]",
            "text/plain": [
              "<Figure size 1512x504 with 1 Axes>"
            ]
          },
          "metadata": {
            "tags": [],
            "needs_background": "light"
          }
        }
      ]
    },
    {
      "cell_type": "markdown",
      "metadata": {
        "id": "T7TBmMCF1AJS",
        "colab_type": "text"
      },
      "source": [
        "Using the `for` loop, create histograms for all the bill statement columns."
      ]
    },
    {
      "cell_type": "code",
      "metadata": {
        "id": "CvKYhtQnQcCv",
        "colab_type": "code",
        "colab": {
          "base_uri": "https://localhost:8080/",
          "height": 1000
        },
        "outputId": "e8077a3a-b226-45dd-c9f9-1b4b97f2715f"
      },
      "source": [
        "# Histograms for the bill statements.\n",
        "for i in bill_amt_cols:\n",
        "  plt.figure(figsize=(21,7))\n",
        "  plt.title(i)\n",
        "  plt.hist(credit_card_df[i],bins=10)\n",
        "  plt.grid()\n",
        "  plt.show()"
      ],
      "execution_count": null,
      "outputs": [
        {
          "output_type": "display_data",
          "data": {
            "image/png": "[encoded data removed]",
            "text/plain": [
              "<Figure size 1512x504 with 1 Axes>"
            ]
          },
          "metadata": {
            "tags": [],
            "needs_background": "light"
          }
        },
        {
          "output_type": "display_data",
          "data": {
            "image/png": "[encoded data removed]",
            "text/plain": [
              "<Figure size 1512x504 with 1 Axes>"
            ]
          },
          "metadata": {
            "tags": [],
            "needs_background": "light"
          }
        },
        {
          "output_type": "display_data",
          "data": {
            "image/png": "[encoded data removed]",
            "text/plain": [
              "<Figure size 1512x504 with 1 Axes>"
            ]
          },
          "metadata": {
            "tags": [],
            "needs_background": "light"
          }
        },
        {
          "output_type": "display_data",
          "data": {
            "image/png": "[encoded data removed]",
            "text/plain": [
              "<Figure size 1512x504 with 1 Axes>"
            ]
          },
          "metadata": {
            "tags": [],
            "needs_background": "light"
          }
        },
        {
          "output_type": "display_data",
          "data": {
            "image/png": "[encoded data removed]",
            "text/plain": [
              "<Figure size 1512x504 with 1 Axes>"
            ]
          },
          "metadata": {
            "tags": [],
            "needs_background": "light"
          }
        },
        {
          "output_type": "display_data",
          "data": {
            "image/png": "[encoded data removed]",
            "text/plain": [
              "<Figure size 1512x504 with 1 Axes>"
            ]
          },
          "metadata": {
            "tags": [],
            "needs_background": "light"
          }
        }
      ]
    },
    {
      "cell_type": "markdown",
      "metadata": {
        "id": "DZVkSsWS05Vw",
        "colab_type": "text"
      },
      "source": [
        "Using the `for` loop, create histograms for all the previous payment columns."
      ]
    },
    {
      "cell_type": "code",
      "metadata": {
        "id": "3K1hwQLkQta8",
        "colab_type": "code",
        "colab": {
          "base_uri": "https://localhost:8080/",
          "height": 1000
        },
        "outputId": "a69c2bbf-f868-4fba-8cf3-e6bb8014f7ce"
      },
      "source": [
        "# Histograms for the previous payments.\n",
        "for i in pay_amt_cols:\n",
        "  plt.figure(figsize=(21,7))\n",
        "  plt.title(i)\n",
        "  plt.hist(credit_card_df[i],bins=10)\n",
        "  plt.grid()\n",
        "  plt.show()"
      ],
      "execution_count": null,
      "outputs": [
        {
          "output_type": "display_data",
          "data": {
            "image/png": "[encoded data removed]",
            "text/plain": [
              "<Figure size 1512x504 with 1 Axes>"
            ]
          },
          "metadata": {
            "tags": [],
            "needs_background": "light"
          }
        },
        {
          "output_type": "display_data",
          "data": {
            "image/png": "[encoded data removed]",
            "text/plain": [
              "<Figure size 1512x504 with 1 Axes>"
            ]
          },
          "metadata": {
            "tags": [],
            "needs_background": "light"
          }
        },
        {
          "output_type": "display_data",
          "data": {
            "image/png": "[encoded data removed]",
            "text/plain": [
              "<Figure size 1512x504 with 1 Axes>"
            ]
          },
          "metadata": {
            "tags": [],
            "needs_background": "light"
          }
        },
        {
          "output_type": "display_data",
          "data": {
            "image/png": "[encoded data removed]",
            "text/plain": [
              "<Figure size 1512x504 with 1 Axes>"
            ]
          },
          "metadata": {
            "tags": [],
            "needs_background": "light"
          }
        },
        {
          "output_type": "display_data",
          "data": {
            "image/png": "[encoded data removed]",
            "text/plain": [
              "<Figure size 1512x504 with 1 Axes>"
            ]
          },
          "metadata": {
            "tags": [],
            "needs_background": "light"
          }
        },
        {
          "output_type": "display_data",
          "data": {
            "image/png": "[encoded data removed]",
            "text/plain": [
              "<Figure size 1512x504 with 1 Axes>"
            ]
          },
          "metadata": {
            "tags": [],
            "needs_background": "light"
          }
        }
      ]
    },
    {
      "cell_type": "markdown",
      "metadata": {
        "id": "UVOoq_-DitFe",
        "colab_type": "text"
      },
      "source": [
        "---"
      ]
    },
    {
      "cell_type": "markdown",
      "metadata": {
        "id": "WlT2sWDouK4Q",
        "colab_type": "text"
      },
      "source": [
        "#### 5.2 Box Plot & Histogram For The `AGE` Column\n",
        "\n",
        "Create a box plot for the `AGE` column."
      ]
    },
    {
      "cell_type": "code",
      "metadata": {
        "id": "3uYJTGxBuLH_",
        "colab_type": "code",
        "colab": {
          "base_uri": "https://localhost:8080/",
          "height": 442
        },
        "outputId": "bfe9f99f-7769-4247-c846-570c488ef72c"
      },
      "source": [
        "# Box plot for the 'AGE' column.\n",
        "plt.figure(figsize=(21,7))\n",
        "sbn.boxplot(credit_card_df['AGE'])\n",
        "plt.show()"
      ],
      "execution_count": null,
      "outputs": [
        {
          "output_type": "display_data",
          "data": {
            "image/png": "[encoded data removed]",
            "text/plain": [
              "<Figure size 1512x504 with 1 Axes>"
            ]
          },
          "metadata": {
            "tags": [],
            "needs_background": "light"
          }
        }
      ]
    },
    {
      "cell_type": "markdown",
      "metadata": {
        "id": "arXjrCag7eoj",
        "colab_type": "text"
      },
      "source": [
        "**Q:** From the box plot for the `AGE` column, what is the approx median age of a credit card holder?\n",
        "\n",
        "**A:** Median age is approx 35years"
      ]
    },
    {
      "cell_type": "markdown",
      "metadata": {
        "id": "xqZJGQBnunIV",
        "colab_type": "text"
      },
      "source": [
        "Create a histogram for the `AGE` column."
      ]
    },
    {
      "cell_type": "code",
      "metadata": {
        "id": "MmkX2qrsurhZ",
        "colab_type": "code",
        "colab": {
          "base_uri": "https://localhost:8080/",
          "height": 442
        },
        "outputId": "4a214893-895f-4a72-ed2a-07aade8f546c"
      },
      "source": [
        "# Histogram for the 'AGE' column.\n",
        "plt.figure(figsize=(21,7))\n",
        "sbn.distplot(credit_card_df.loc[credit_card_df['AGE'],'AGE'],kde=False)\n",
        "plt.grid()\n",
        "plt.show()"
      ],
      "execution_count": null,
      "outputs": [
        {
          "output_type": "display_data",
          "data": {
            "image/png": "[encoded data removed]",
            "text/plain": [
              "<Figure size 1512x504 with 1 Axes>"
            ]
          },
          "metadata": {
            "tags": [],
            "needs_background": "light"
          }
        }
      ]
    },
    {
      "cell_type": "markdown",
      "metadata": {
        "id": "5cv9jULXxDe-",
        "colab_type": "text"
      },
      "source": [
        "**Q:** Is there some peculiar pattern in the `AGE` histogram?\n",
        "\n",
        "**A:** No there is a no percuilar pattern in the AGE histogram because it has random drop and increase in its value "
      ]
    },
    {
      "cell_type": "markdown",
      "metadata": {
        "id": "3D1h9Cx1ug1h",
        "colab_type": "text"
      },
      "source": [
        "---"
      ]
    },
    {
      "cell_type": "markdown",
      "metadata": {
        "id": "DYyGboDnvXtr",
        "colab_type": "text"
      },
      "source": [
        "#### 5.3 Box Plot & Histogram For The `LIMIT_BAL` Column\n",
        "\n",
        "Create a box plot for the `LIMIT_BAL` column."
      ]
    },
    {
      "cell_type": "code",
      "metadata": {
        "id": "aTwEfWF6zDuj",
        "colab_type": "code",
        "colab": {
          "base_uri": "https://localhost:8080/",
          "height": 443
        },
        "outputId": "41e703f5-e2c4-45aa-e3f6-a881fb61f788"
      },
      "source": [
        "# Boxplot for the LIMIT_BAL column.\n",
        "plt.figure(figsize=(21,7))\n",
        "sbn.boxplot(credit_card_df['LIMIT_BAL'])\n",
        "plt.show()"
      ],
      "execution_count": null,
      "outputs": [
        {
          "output_type": "display_data",
          "data": {
            "image/png": "[encoded data removed]",
            "text/plain": [
              "<Figure size 1512x504 with 1 Axes>"
            ]
          },
          "metadata": {
            "tags": [],
            "needs_background": "light"
          }
        }
      ]
    },
    {
      "cell_type": "markdown",
      "metadata": {
        "id": "ydnRrKDYyxTd",
        "colab_type": "text"
      },
      "source": [
        "Create a histogram for the `LIMIT_BAL` column using a function from the `seaborn` module."
      ]
    },
    {
      "cell_type": "code",
      "metadata": {
        "id": "-Zi_1PlT8Xug",
        "colab_type": "code",
        "colab": {
          "base_uri": "https://localhost:8080/",
          "height": 443
        },
        "outputId": "b7813d82-02f3-4bf2-97f0-c769205512bb"
      },
      "source": [
        "# Histogram for the 'LIMIT_BAL' column using a function from the 'seaborn' module.\n",
        "credit_limit=credit_card_df['LIMIT_BAL']\n",
        "plt.figure(figsize=(21,7))\n",
        "sbn.distplot(credit_limit,kde=False)\n",
        "plt.grid()\n",
        "plt.show()"
      ],
      "execution_count": null,
      "outputs": [
        {
          "output_type": "display_data",
          "data": {
            "image/png": "[encoded data removed]",
            "text/plain": [
              "<Figure size 1512x504 with 1 Axes>"
            ]
          },
          "metadata": {
            "tags": [],
            "needs_background": "light"
          }
        }
      ]
    },
    {
      "cell_type": "markdown",
      "metadata": {
        "id": "swDWbGk7yl6V",
        "colab_type": "text"
      },
      "source": [
        "Create a histogram (having 50 bins) for the `LIMIT_BAL` column using a function from the `matplotlib.pyplot` module."
      ]
    },
    {
      "cell_type": "code",
      "metadata": {
        "id": "ZvQw9HT7ibAJ",
        "colab_type": "code",
        "colab": {
          "base_uri": "https://localhost:8080/",
          "height": 441
        },
        "outputId": "6e5b90db-f57a-4201-d52c-be3a550b71a5"
      },
      "source": [
        "# Histogram (having 50 bins) for the 'LIMIT_BAL' column using a function from the 'matplotlib.pyplot' module.\n",
        "credit_limit=credit_card_df['LIMIT_BAL']\n",
        "plt.figure(figsize=(21,7))\n",
        "plt.hist(credit_limit,bins=50)\n",
        "plt.grid()\n",
        "plt.show()"
      ],
      "execution_count": null,
      "outputs": [
        {
          "output_type": "display_data",
          "data": {
            "image/png": "[encoded data removed]",
            "text/plain": [
              "<Figure size 1512x504 with 1 Axes>"
            ]
          },
          "metadata": {
            "tags": [],
            "needs_background": "light"
          }
        }
      ]
    },
    {
      "cell_type": "markdown",
      "metadata": {
        "id": "SQlIHh7YtAN_",
        "colab_type": "text"
      },
      "source": [
        "**Q:** What happens to the counts of `LIMIT_BAL` values as the `LIMIT_BAL` values increases? What does it signify?\n",
        "\n",
        "**A:** As the values of Limit_Bal increases count of Limit_Bal decreases as can be seen from the histogram. We can infer that not many people have large limit of money they can spend on their credit card per month"
      ]
    },
    {
      "cell_type": "markdown",
      "metadata": {
        "id": "dnkmJarZkINk",
        "colab_type": "text"
      },
      "source": [
        "---"
      ]
    },
    {
      "cell_type": "markdown",
      "metadata": {
        "id": "HOl4i-OfQiC3",
        "colab_type": "text"
      },
      "source": [
        "### How To Solve & Submit The Project\n",
        "\n",
        "Follow the steps described below to solve the project and then submit it.\n",
        "\n",
        "1. Click on the link provided below to open the Colab file for this project.\n",
        "   \n",
        "   https://colab.research.google.com/drive/1VIYOP9g_1A6r9r8K53_MoPgLV6tg_sl2\n",
        "\n",
        "2. Create the duplicate copy of the Colab file. Here are the steps to create the duplicate copy:\n",
        "\n",
        "    - Click on the **File** menu. A new drop-down list will appear.\n",
        "\n",
        "      <img src='https://student-datasets-bucket.s3.ap-south-1.amazonaws.com/images/lesson-0/0_file_menu.png' width=500>\n",
        "\n",
        "    - Click on the **Save a copy in Drive** option. A duplicate copy will get created. It will open up in the new tab on your web browser.\n",
        "\n",
        "      <img src='https://student-datasets-bucket.s3.ap-south-1.amazonaws.com/images/lesson-0/1_create_colab_duplicate_copy.png' width=500>\n",
        "\n",
        "     - After creating the duplicate copy of the notebook, please rename it in the **YYYY-MM-DD_StudentName_Project8** format. \n",
        "\n",
        "3. Now, write your code in the prescribed code cells.\n",
        "\n",
        "4. After finishing the project, click on the **Share** button on the top right corner of the notebook. A new dialogue box will appear.\n",
        "\n",
        "  <img src='https://student-datasets-bucket.s3.ap-south-1.amazonaws.com/images/lesson-0/2_share_button.png' width=500>\n",
        "\n",
        "5. In the dialogue box, click on the **Copy link** button.\n",
        "\n",
        "   <img src='https://student-datasets-bucket.s3.ap-south-1.amazonaws.com/images/project-1/1_copy_link.png' width=500>\n",
        "\n",
        "6. The link of the duplicate copy (named as **YYYY-MM-DD_StudentName_Project8**) of the notebook will get copied which you can paste in the submission box on the WhiteHat Jr project submission interface.\n",
        "\n",
        "   <img src='https://student-datasets-bucket.s3.ap-south-1.amazonaws.com/images/project-1/2_copy_link_confirmation.png' width=500>"
      ]
    },
    {
      "cell_type": "markdown",
      "metadata": {
        "id": "Mrk8bFSnQyt-",
        "colab_type": "text"
      },
      "source": [
        "---"
      ]
    }
  ]
}